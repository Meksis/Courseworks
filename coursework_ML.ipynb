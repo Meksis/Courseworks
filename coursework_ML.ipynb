{
 "cells": [
  {
   "cell_type": "code",
   "execution_count": 553,
   "metadata": {},
   "outputs": [],
   "source": [
    "import pandas as pd\n",
    "import numpy as np\n",
    "\n",
    "import sklearn as sk\n",
    "from sklearn import *\n",
    "from catboost import *\n",
    "from yellowbrick import *\n",
    "from sklearn.metrics import *\n",
    "\n",
    "from imblearn.over_sampling import SMOTE\n",
    "from sklearn.preprocessing import MinMaxScaler\n",
    "from sklearn.linear_model import LinearRegression"
   ]
  },
  {
   "cell_type": "code",
   "execution_count": 554,
   "metadata": {},
   "outputs": [],
   "source": [
    "random_state_all = 25"
   ]
  },
  {
   "attachments": {},
   "cell_type": "markdown",
   "metadata": {},
   "source": [
    "1. Загрузка массива целей"
   ]
  },
  {
   "attachments": {},
   "cell_type": "markdown",
   "metadata": {},
   "source": [
    "- Загрузка датасетов"
   ]
  },
  {
   "cell_type": "code",
   "execution_count": 555,
   "metadata": {},
   "outputs": [
    {
     "name": "stderr",
     "output_type": "stream",
     "text": [
      "C:\\Users\\orlov\\AppData\\Local\\Temp\\ipykernel_27272\\4035610624.py:1: DtypeWarning: Columns (113,116,119,122,125) have mixed types. Specify dtype option on import or set low_memory=False.\n",
      "  dataset_features = pd.read_csv('Datasets/feature_data_new_mini.csv')\n"
     ]
    }
   ],
   "source": [
    "dataset_features = pd.read_csv('Datasets/feature_data_new_mini.csv')\n",
    "dataset_gs = pd.read_csv('Datasets/goal_cipher.csv')"
   ]
  },
  {
   "attachments": {},
   "cell_type": "markdown",
   "metadata": {},
   "source": [
    "- Предварительная обработка датасетов"
   ]
  },
  {
   "attachments": {},
   "cell_type": "markdown",
   "metadata": {},
   "source": [
    "- - Удаление дублированных значений"
   ]
  },
  {
   "cell_type": "code",
   "execution_count": 556,
   "metadata": {},
   "outputs": [],
   "source": [
    "dataset_features.drop_duplicates(inplace = True)\n",
    "dataset_gs.drop_duplicates(inplace = True)"
   ]
  },
  {
   "cell_type": "code",
   "execution_count": 557,
   "metadata": {},
   "outputs": [
    {
     "data": {
      "text/html": [
       "<div>\n",
       "<style scoped>\n",
       "    .dataframe tbody tr th:only-of-type {\n",
       "        vertical-align: middle;\n",
       "    }\n",
       "\n",
       "    .dataframe tbody tr th {\n",
       "        vertical-align: top;\n",
       "    }\n",
       "\n",
       "    .dataframe thead th {\n",
       "        text-align: right;\n",
       "    }\n",
       "</style>\n",
       "<table border=\"1\" class=\"dataframe\">\n",
       "  <thead>\n",
       "    <tr style=\"text-align: right;\">\n",
       "      <th></th>\n",
       "      <th>ser_loc</th>\n",
       "      <th>zns_loc</th>\n",
       "      <th>prs_loc</th>\n",
       "      <th>year_month</th>\n",
       "      <th>count_fail</th>\n",
       "      <th>107_repair_count</th>\n",
       "      <th>307_repair_count</th>\n",
       "      <th>308_repair_count</th>\n",
       "      <th>309_repair_count</th>\n",
       "      <th>521_repair_count</th>\n",
       "      <th>...</th>\n",
       "      <th>тл-2к_y</th>\n",
       "      <th>тл-2к1</th>\n",
       "      <th>эд118а</th>\n",
       "      <th>эд118б</th>\n",
       "      <th>эдп810</th>\n",
       "      <th>эк-810ч</th>\n",
       "      <th>экг-8ж</th>\n",
       "      <th>power</th>\n",
       "      <th>last_of_p_data</th>\n",
       "      <th>last_of_in_invent</th>\n",
       "    </tr>\n",
       "  </thead>\n",
       "  <tbody>\n",
       "    <tr>\n",
       "      <th>0</th>\n",
       "      <td>107</td>\n",
       "      <td>3.0</td>\n",
       "      <td>1.0</td>\n",
       "      <td>2020-01-28</td>\n",
       "      <td>1.0</td>\n",
       "      <td>0.0</td>\n",
       "      <td>0.0</td>\n",
       "      <td>0.0</td>\n",
       "      <td>0.0</td>\n",
       "      <td>0.0</td>\n",
       "      <td>...</td>\n",
       "      <td>0.0</td>\n",
       "      <td>0.0</td>\n",
       "      <td>0.0</td>\n",
       "      <td>0.0</td>\n",
       "      <td>0.0</td>\n",
       "      <td>0.0</td>\n",
       "      <td>0.0</td>\n",
       "      <td>3250.0</td>\n",
       "      <td>0.0</td>\n",
       "      <td>0.0</td>\n",
       "    </tr>\n",
       "    <tr>\n",
       "      <th>1</th>\n",
       "      <td>107</td>\n",
       "      <td>3.0</td>\n",
       "      <td>1.0</td>\n",
       "      <td>2019-03-28</td>\n",
       "      <td>1.0</td>\n",
       "      <td>0.0</td>\n",
       "      <td>0.0</td>\n",
       "      <td>0.0</td>\n",
       "      <td>0.0</td>\n",
       "      <td>0.0</td>\n",
       "      <td>...</td>\n",
       "      <td>0.0</td>\n",
       "      <td>0.0</td>\n",
       "      <td>0.0</td>\n",
       "      <td>0.0</td>\n",
       "      <td>0.0</td>\n",
       "      <td>0.0</td>\n",
       "      <td>0.0</td>\n",
       "      <td>3250.0</td>\n",
       "      <td>0.0</td>\n",
       "      <td>0.0</td>\n",
       "    </tr>\n",
       "    <tr>\n",
       "      <th>2</th>\n",
       "      <td>107</td>\n",
       "      <td>4.0</td>\n",
       "      <td>1.0</td>\n",
       "      <td>2020-04-28</td>\n",
       "      <td>1.0</td>\n",
       "      <td>0.0</td>\n",
       "      <td>0.0</td>\n",
       "      <td>0.0</td>\n",
       "      <td>0.0</td>\n",
       "      <td>0.0</td>\n",
       "      <td>...</td>\n",
       "      <td>0.0</td>\n",
       "      <td>0.0</td>\n",
       "      <td>0.0</td>\n",
       "      <td>0.0</td>\n",
       "      <td>0.0</td>\n",
       "      <td>0.0</td>\n",
       "      <td>0.0</td>\n",
       "      <td>3080.0</td>\n",
       "      <td>0.0</td>\n",
       "      <td>0.0</td>\n",
       "    </tr>\n",
       "    <tr>\n",
       "      <th>3</th>\n",
       "      <td>107</td>\n",
       "      <td>4.0</td>\n",
       "      <td>1.0</td>\n",
       "      <td>2020-06-28</td>\n",
       "      <td>1.0</td>\n",
       "      <td>0.0</td>\n",
       "      <td>0.0</td>\n",
       "      <td>0.0</td>\n",
       "      <td>0.0</td>\n",
       "      <td>0.0</td>\n",
       "      <td>...</td>\n",
       "      <td>0.0</td>\n",
       "      <td>0.0</td>\n",
       "      <td>0.0</td>\n",
       "      <td>0.0</td>\n",
       "      <td>0.0</td>\n",
       "      <td>0.0</td>\n",
       "      <td>0.0</td>\n",
       "      <td>3080.0</td>\n",
       "      <td>6.0</td>\n",
       "      <td>6.0</td>\n",
       "    </tr>\n",
       "    <tr>\n",
       "      <th>4</th>\n",
       "      <td>107</td>\n",
       "      <td>4.0</td>\n",
       "      <td>1.0</td>\n",
       "      <td>2020-07-28</td>\n",
       "      <td>1.0</td>\n",
       "      <td>0.0</td>\n",
       "      <td>0.0</td>\n",
       "      <td>1.0</td>\n",
       "      <td>0.0</td>\n",
       "      <td>0.0</td>\n",
       "      <td>...</td>\n",
       "      <td>0.0</td>\n",
       "      <td>0.0</td>\n",
       "      <td>0.0</td>\n",
       "      <td>0.0</td>\n",
       "      <td>0.0</td>\n",
       "      <td>0.0</td>\n",
       "      <td>0.0</td>\n",
       "      <td>3080.0</td>\n",
       "      <td>10.0</td>\n",
       "      <td>10.0</td>\n",
       "    </tr>\n",
       "    <tr>\n",
       "      <th>...</th>\n",
       "      <td>...</td>\n",
       "      <td>...</td>\n",
       "      <td>...</td>\n",
       "      <td>...</td>\n",
       "      <td>...</td>\n",
       "      <td>...</td>\n",
       "      <td>...</td>\n",
       "      <td>...</td>\n",
       "      <td>...</td>\n",
       "      <td>...</td>\n",
       "      <td>...</td>\n",
       "      <td>...</td>\n",
       "      <td>...</td>\n",
       "      <td>...</td>\n",
       "      <td>...</td>\n",
       "      <td>...</td>\n",
       "      <td>...</td>\n",
       "      <td>...</td>\n",
       "      <td>...</td>\n",
       "      <td>...</td>\n",
       "      <td>...</td>\n",
       "    </tr>\n",
       "    <tr>\n",
       "      <th>167249</th>\n",
       "      <td>693</td>\n",
       "      <td>74.0</td>\n",
       "      <td>3.0</td>\n",
       "      <td>2019-03-28</td>\n",
       "      <td>0.0</td>\n",
       "      <td>0.0</td>\n",
       "      <td>0.0</td>\n",
       "      <td>0.0</td>\n",
       "      <td>0.0</td>\n",
       "      <td>0.0</td>\n",
       "      <td>...</td>\n",
       "      <td>0.0</td>\n",
       "      <td>0.0</td>\n",
       "      <td>0.0</td>\n",
       "      <td>0.0</td>\n",
       "      <td>0.0</td>\n",
       "      <td>0.0</td>\n",
       "      <td>0.0</td>\n",
       "      <td>2206.0</td>\n",
       "      <td>0.0</td>\n",
       "      <td>0.0</td>\n",
       "    </tr>\n",
       "    <tr>\n",
       "      <th>167250</th>\n",
       "      <td>693</td>\n",
       "      <td>74.0</td>\n",
       "      <td>3.0</td>\n",
       "      <td>2021-04-28</td>\n",
       "      <td>0.0</td>\n",
       "      <td>0.0</td>\n",
       "      <td>0.0</td>\n",
       "      <td>0.0</td>\n",
       "      <td>0.0</td>\n",
       "      <td>0.0</td>\n",
       "      <td>...</td>\n",
       "      <td>0.0</td>\n",
       "      <td>0.0</td>\n",
       "      <td>0.0</td>\n",
       "      <td>0.0</td>\n",
       "      <td>0.0</td>\n",
       "      <td>0.0</td>\n",
       "      <td>0.0</td>\n",
       "      <td>2206.0</td>\n",
       "      <td>51.0</td>\n",
       "      <td>51.0</td>\n",
       "    </tr>\n",
       "    <tr>\n",
       "      <th>167251</th>\n",
       "      <td>693</td>\n",
       "      <td>74.0</td>\n",
       "      <td>3.0</td>\n",
       "      <td>2021-05-28</td>\n",
       "      <td>0.0</td>\n",
       "      <td>0.0</td>\n",
       "      <td>0.0</td>\n",
       "      <td>0.0</td>\n",
       "      <td>0.0</td>\n",
       "      <td>0.0</td>\n",
       "      <td>...</td>\n",
       "      <td>0.0</td>\n",
       "      <td>0.0</td>\n",
       "      <td>0.0</td>\n",
       "      <td>0.0</td>\n",
       "      <td>0.0</td>\n",
       "      <td>0.0</td>\n",
       "      <td>0.0</td>\n",
       "      <td>2206.0</td>\n",
       "      <td>55.0</td>\n",
       "      <td>55.0</td>\n",
       "    </tr>\n",
       "    <tr>\n",
       "      <th>167252</th>\n",
       "      <td>693</td>\n",
       "      <td>74.0</td>\n",
       "      <td>3.0</td>\n",
       "      <td>2021-07-28</td>\n",
       "      <td>0.0</td>\n",
       "      <td>0.0</td>\n",
       "      <td>0.0</td>\n",
       "      <td>0.0</td>\n",
       "      <td>0.0</td>\n",
       "      <td>0.0</td>\n",
       "      <td>...</td>\n",
       "      <td>0.0</td>\n",
       "      <td>0.0</td>\n",
       "      <td>0.0</td>\n",
       "      <td>0.0</td>\n",
       "      <td>0.0</td>\n",
       "      <td>0.0</td>\n",
       "      <td>0.0</td>\n",
       "      <td>2206.0</td>\n",
       "      <td>64.0</td>\n",
       "      <td>64.0</td>\n",
       "    </tr>\n",
       "    <tr>\n",
       "      <th>167253</th>\n",
       "      <td>693</td>\n",
       "      <td>74.0</td>\n",
       "      <td>3.0</td>\n",
       "      <td>2021-10-28</td>\n",
       "      <td>0.0</td>\n",
       "      <td>0.0</td>\n",
       "      <td>0.0</td>\n",
       "      <td>0.0</td>\n",
       "      <td>0.0</td>\n",
       "      <td>0.0</td>\n",
       "      <td>...</td>\n",
       "      <td>0.0</td>\n",
       "      <td>0.0</td>\n",
       "      <td>0.0</td>\n",
       "      <td>0.0</td>\n",
       "      <td>0.0</td>\n",
       "      <td>0.0</td>\n",
       "      <td>0.0</td>\n",
       "      <td>2206.0</td>\n",
       "      <td>77.0</td>\n",
       "      <td>77.0</td>\n",
       "    </tr>\n",
       "  </tbody>\n",
       "</table>\n",
       "<p>165691 rows × 249 columns</p>\n",
       "</div>"
      ],
      "text/plain": [
       "        ser_loc  zns_loc  prs_loc  year_month  count_fail  107_repair_count  \\\n",
       "0           107      3.0      1.0  2020-01-28         1.0               0.0   \n",
       "1           107      3.0      1.0  2019-03-28         1.0               0.0   \n",
       "2           107      4.0      1.0  2020-04-28         1.0               0.0   \n",
       "3           107      4.0      1.0  2020-06-28         1.0               0.0   \n",
       "4           107      4.0      1.0  2020-07-28         1.0               0.0   \n",
       "...         ...      ...      ...         ...         ...               ...   \n",
       "167249      693     74.0      3.0  2019-03-28         0.0               0.0   \n",
       "167250      693     74.0      3.0  2021-04-28         0.0               0.0   \n",
       "167251      693     74.0      3.0  2021-05-28         0.0               0.0   \n",
       "167252      693     74.0      3.0  2021-07-28         0.0               0.0   \n",
       "167253      693     74.0      3.0  2021-10-28         0.0               0.0   \n",
       "\n",
       "        307_repair_count  308_repair_count  309_repair_count  \\\n",
       "0                    0.0               0.0               0.0   \n",
       "1                    0.0               0.0               0.0   \n",
       "2                    0.0               0.0               0.0   \n",
       "3                    0.0               0.0               0.0   \n",
       "4                    0.0               1.0               0.0   \n",
       "...                  ...               ...               ...   \n",
       "167249               0.0               0.0               0.0   \n",
       "167250               0.0               0.0               0.0   \n",
       "167251               0.0               0.0               0.0   \n",
       "167252               0.0               0.0               0.0   \n",
       "167253               0.0               0.0               0.0   \n",
       "\n",
       "        521_repair_count  ...  тл-2к_y  тл-2к1  эд118а  эд118б  эдп810  \\\n",
       "0                    0.0  ...      0.0     0.0     0.0     0.0     0.0   \n",
       "1                    0.0  ...      0.0     0.0     0.0     0.0     0.0   \n",
       "2                    0.0  ...      0.0     0.0     0.0     0.0     0.0   \n",
       "3                    0.0  ...      0.0     0.0     0.0     0.0     0.0   \n",
       "4                    0.0  ...      0.0     0.0     0.0     0.0     0.0   \n",
       "...                  ...  ...      ...     ...     ...     ...     ...   \n",
       "167249               0.0  ...      0.0     0.0     0.0     0.0     0.0   \n",
       "167250               0.0  ...      0.0     0.0     0.0     0.0     0.0   \n",
       "167251               0.0  ...      0.0     0.0     0.0     0.0     0.0   \n",
       "167252               0.0  ...      0.0     0.0     0.0     0.0     0.0   \n",
       "167253               0.0  ...      0.0     0.0     0.0     0.0     0.0   \n",
       "\n",
       "        эк-810ч  экг-8ж   power  last_of_p_data  last_of_in_invent  \n",
       "0           0.0     0.0  3250.0             0.0                0.0  \n",
       "1           0.0     0.0  3250.0             0.0                0.0  \n",
       "2           0.0     0.0  3080.0             0.0                0.0  \n",
       "3           0.0     0.0  3080.0             6.0                6.0  \n",
       "4           0.0     0.0  3080.0            10.0               10.0  \n",
       "...         ...     ...     ...             ...                ...  \n",
       "167249      0.0     0.0  2206.0             0.0                0.0  \n",
       "167250      0.0     0.0  2206.0            51.0               51.0  \n",
       "167251      0.0     0.0  2206.0            55.0               55.0  \n",
       "167252      0.0     0.0  2206.0            64.0               64.0  \n",
       "167253      0.0     0.0  2206.0            77.0               77.0  \n",
       "\n",
       "[165691 rows x 249 columns]"
      ]
     },
     "execution_count": 557,
     "metadata": {},
     "output_type": "execute_result"
    }
   ],
   "source": [
    "dataset_features"
   ]
  },
  {
   "attachments": {},
   "cell_type": "markdown",
   "metadata": {},
   "source": [
    "- Вычленение указанных заданием параметров из таблицы"
   ]
  },
  {
   "cell_type": "code",
   "execution_count": 558,
   "metadata": {},
   "outputs": [],
   "source": [
    "dataset_gs = dataset_gs[dataset_gs['fail_reason'] == 'Личи'].T.iloc()[1 : ].T\n",
    "dataset_gs.drop(['fail_place', 'fail_reason', 'fail_type'], axis = 1, inplace = True)"
   ]
  },
  {
   "cell_type": "code",
   "execution_count": 559,
   "metadata": {},
   "outputs": [
    {
     "data": {
      "text/html": [
       "<div>\n",
       "<style scoped>\n",
       "    .dataframe tbody tr th:only-of-type {\n",
       "        vertical-align: middle;\n",
       "    }\n",
       "\n",
       "    .dataframe tbody tr th {\n",
       "        vertical-align: top;\n",
       "    }\n",
       "\n",
       "    .dataframe thead th {\n",
       "        text-align: right;\n",
       "    }\n",
       "</style>\n",
       "<table border=\"1\" class=\"dataframe\">\n",
       "  <thead>\n",
       "    <tr style=\"text-align: right;\">\n",
       "      <th></th>\n",
       "      <th>ser_loc</th>\n",
       "      <th>zns_loc</th>\n",
       "      <th>prs_loc</th>\n",
       "      <th>year_month</th>\n",
       "      <th>day</th>\n",
       "    </tr>\n",
       "  </thead>\n",
       "  <tbody>\n",
       "    <tr>\n",
       "      <th>395</th>\n",
       "      <td>240</td>\n",
       "      <td>1407.0</td>\n",
       "      <td>1.0</td>\n",
       "      <td>2021-01</td>\n",
       "      <td>17</td>\n",
       "    </tr>\n",
       "    <tr>\n",
       "      <th>437</th>\n",
       "      <td>240</td>\n",
       "      <td>1773.0</td>\n",
       "      <td>1.0</td>\n",
       "      <td>2021-01</td>\n",
       "      <td>5</td>\n",
       "    </tr>\n",
       "    <tr>\n",
       "      <th>500</th>\n",
       "      <td>240</td>\n",
       "      <td>1571.0</td>\n",
       "      <td>1.0</td>\n",
       "      <td>2021-01</td>\n",
       "      <td>10</td>\n",
       "    </tr>\n",
       "    <tr>\n",
       "      <th>553</th>\n",
       "      <td>240</td>\n",
       "      <td>529.0</td>\n",
       "      <td>1.0</td>\n",
       "      <td>2021-01</td>\n",
       "      <td>2</td>\n",
       "    </tr>\n",
       "    <tr>\n",
       "      <th>881</th>\n",
       "      <td>240</td>\n",
       "      <td>653.0</td>\n",
       "      <td>1.0</td>\n",
       "      <td>2021-01</td>\n",
       "      <td>25</td>\n",
       "    </tr>\n",
       "    <tr>\n",
       "      <th>...</th>\n",
       "      <td>...</td>\n",
       "      <td>...</td>\n",
       "      <td>...</td>\n",
       "      <td>...</td>\n",
       "      <td>...</td>\n",
       "    </tr>\n",
       "    <tr>\n",
       "      <th>52663</th>\n",
       "      <td>233</td>\n",
       "      <td>1656.0</td>\n",
       "      <td>1.0</td>\n",
       "      <td>2018-09</td>\n",
       "      <td>8</td>\n",
       "    </tr>\n",
       "    <tr>\n",
       "      <th>52669</th>\n",
       "      <td>226</td>\n",
       "      <td>2006.0</td>\n",
       "      <td>2.0</td>\n",
       "      <td>2018-09</td>\n",
       "      <td>1</td>\n",
       "    </tr>\n",
       "    <tr>\n",
       "      <th>52686</th>\n",
       "      <td>233</td>\n",
       "      <td>1645.0</td>\n",
       "      <td>1.0</td>\n",
       "      <td>2018-09</td>\n",
       "      <td>8</td>\n",
       "    </tr>\n",
       "    <tr>\n",
       "      <th>52704</th>\n",
       "      <td>240</td>\n",
       "      <td>1435.0</td>\n",
       "      <td>2.0</td>\n",
       "      <td>2018-09</td>\n",
       "      <td>10</td>\n",
       "    </tr>\n",
       "    <tr>\n",
       "      <th>52710</th>\n",
       "      <td>145</td>\n",
       "      <td>1.0</td>\n",
       "      <td>1.0</td>\n",
       "      <td>2018-09</td>\n",
       "      <td>3</td>\n",
       "    </tr>\n",
       "  </tbody>\n",
       "</table>\n",
       "<p>688 rows × 5 columns</p>\n",
       "</div>"
      ],
      "text/plain": [
       "      ser_loc zns_loc prs_loc year_month day\n",
       "395       240  1407.0     1.0    2021-01  17\n",
       "437       240  1773.0     1.0    2021-01   5\n",
       "500       240  1571.0     1.0    2021-01  10\n",
       "553       240   529.0     1.0    2021-01   2\n",
       "881       240   653.0     1.0    2021-01  25\n",
       "...       ...     ...     ...        ...  ..\n",
       "52663     233  1656.0     1.0    2018-09   8\n",
       "52669     226  2006.0     2.0    2018-09   1\n",
       "52686     233  1645.0     1.0    2018-09   8\n",
       "52704     240  1435.0     2.0    2018-09  10\n",
       "52710     145     1.0     1.0    2018-09   3\n",
       "\n",
       "[688 rows x 5 columns]"
      ]
     },
     "execution_count": 559,
     "metadata": {},
     "output_type": "execute_result"
    }
   ],
   "source": [
    "dataset_gs"
   ]
  },
  {
   "attachments": {},
   "cell_type": "markdown",
   "metadata": {},
   "source": [
    "- Перевод всех названий столбцов в нижний регистр"
   ]
  },
  {
   "cell_type": "code",
   "execution_count": 560,
   "metadata": {},
   "outputs": [],
   "source": [
    "dataset_features.columns = [name.lower() for name in dataset_features.columns]\n",
    "dataset_gs.columns = [name.lower() for name in dataset_gs.columns]"
   ]
  },
  {
   "attachments": {},
   "cell_type": "markdown",
   "metadata": {},
   "source": [
    "- Преобразовывание дат в соответствующий формат"
   ]
  },
  {
   "cell_type": "code",
   "execution_count": 561,
   "metadata": {},
   "outputs": [],
   "source": [
    "dataset_gs['year_month'] = pd.to_datetime(dataset_gs['year_month']).dt.to_period('M')\n",
    "dataset_features['year_month'] = pd.to_datetime(dataset_features['year_month']).dt.to_period('M')"
   ]
  },
  {
   "cell_type": "code",
   "execution_count": 562,
   "metadata": {},
   "outputs": [
    {
     "name": "stdout",
     "output_type": "stream",
     "text": [
      "0    2020-01\n",
      "1    2019-03\n",
      "2    2020-04\n",
      "3    2020-06\n",
      "4    2020-07\n",
      "5    2020-09\n",
      "6    2020-01\n",
      "7    2020-03\n",
      "8    2019-10\n",
      "9    2020-09\n",
      "Name: year_month, dtype: period[M] \n",
      "\n",
      "\n",
      " 395     2021-01\n",
      "437     2021-01\n",
      "500     2021-01\n",
      "553     2021-01\n",
      "881     2021-01\n",
      "1049    2021-01\n",
      "1466    2020-12\n",
      "1664    2020-12\n",
      "1698    2020-12\n",
      "1862    2020-12\n",
      "Name: year_month, dtype: period[M]\n"
     ]
    }
   ],
   "source": [
    "print(dataset_features.year_month.iloc()[:10], '\\n\\n\\n', dataset_gs.year_month.iloc()[:10])"
   ]
  },
  {
   "attachments": {},
   "cell_type": "markdown",
   "metadata": {},
   "source": [
    "2. Объеднинение массива целей с массивом признаков"
   ]
  },
  {
   "attachments": {},
   "cell_type": "markdown",
   "metadata": {},
   "source": [
    "- Слияние датасетов в один по указанным ключам"
   ]
  },
  {
   "cell_type": "code",
   "execution_count": 563,
   "metadata": {},
   "outputs": [
    {
     "name": "stderr",
     "output_type": "stream",
     "text": [
      "C:\\Users\\orlov\\AppData\\Local\\Temp\\ipykernel_27272\\4030675962.py:1: FutureWarning: In a future version, the Index constructor will not infer numeric dtypes when passed object-dtype sequences (matching Series behavior)\n",
      "  dataset_merged = dataset_features.merge(dataset_gs, on = ['ser_loc','zns_loc','prs_loc','year_month'], how = 'outer')\n"
     ]
    }
   ],
   "source": [
    "dataset_merged = dataset_features.merge(dataset_gs, on = ['ser_loc','zns_loc','prs_loc','year_month'], how = 'outer')"
   ]
  },
  {
   "cell_type": "code",
   "execution_count": 564,
   "metadata": {},
   "outputs": [
    {
     "data": {
      "text/html": [
       "<div>\n",
       "<style scoped>\n",
       "    .dataframe tbody tr th:only-of-type {\n",
       "        vertical-align: middle;\n",
       "    }\n",
       "\n",
       "    .dataframe tbody tr th {\n",
       "        vertical-align: top;\n",
       "    }\n",
       "\n",
       "    .dataframe thead th {\n",
       "        text-align: right;\n",
       "    }\n",
       "</style>\n",
       "<table border=\"1\" class=\"dataframe\">\n",
       "  <thead>\n",
       "    <tr style=\"text-align: right;\">\n",
       "      <th></th>\n",
       "      <th>ser_loc</th>\n",
       "      <th>zns_loc</th>\n",
       "      <th>prs_loc</th>\n",
       "      <th>year_month</th>\n",
       "      <th>count_fail</th>\n",
       "      <th>107_repair_count</th>\n",
       "      <th>307_repair_count</th>\n",
       "      <th>308_repair_count</th>\n",
       "      <th>309_repair_count</th>\n",
       "      <th>521_repair_count</th>\n",
       "      <th>...</th>\n",
       "      <th>тл-2к1</th>\n",
       "      <th>эд118а</th>\n",
       "      <th>эд118б</th>\n",
       "      <th>эдп810</th>\n",
       "      <th>эк-810ч</th>\n",
       "      <th>экг-8ж</th>\n",
       "      <th>power</th>\n",
       "      <th>last_of_p_data</th>\n",
       "      <th>last_of_in_invent</th>\n",
       "      <th>day</th>\n",
       "    </tr>\n",
       "  </thead>\n",
       "  <tbody>\n",
       "    <tr>\n",
       "      <th>0</th>\n",
       "      <td>107.0</td>\n",
       "      <td>3.0</td>\n",
       "      <td>1.0</td>\n",
       "      <td>2020-01</td>\n",
       "      <td>1.0</td>\n",
       "      <td>0.0</td>\n",
       "      <td>0.0</td>\n",
       "      <td>0.0</td>\n",
       "      <td>0.0</td>\n",
       "      <td>0.0</td>\n",
       "      <td>...</td>\n",
       "      <td>0.0</td>\n",
       "      <td>0.0</td>\n",
       "      <td>0.0</td>\n",
       "      <td>0.0</td>\n",
       "      <td>0.0</td>\n",
       "      <td>0.0</td>\n",
       "      <td>3250.0</td>\n",
       "      <td>0.0</td>\n",
       "      <td>0.0</td>\n",
       "      <td>NaN</td>\n",
       "    </tr>\n",
       "    <tr>\n",
       "      <th>1</th>\n",
       "      <td>107.0</td>\n",
       "      <td>3.0</td>\n",
       "      <td>1.0</td>\n",
       "      <td>2019-03</td>\n",
       "      <td>1.0</td>\n",
       "      <td>0.0</td>\n",
       "      <td>0.0</td>\n",
       "      <td>0.0</td>\n",
       "      <td>0.0</td>\n",
       "      <td>0.0</td>\n",
       "      <td>...</td>\n",
       "      <td>0.0</td>\n",
       "      <td>0.0</td>\n",
       "      <td>0.0</td>\n",
       "      <td>0.0</td>\n",
       "      <td>0.0</td>\n",
       "      <td>0.0</td>\n",
       "      <td>3250.0</td>\n",
       "      <td>0.0</td>\n",
       "      <td>0.0</td>\n",
       "      <td>NaN</td>\n",
       "    </tr>\n",
       "    <tr>\n",
       "      <th>2</th>\n",
       "      <td>107.0</td>\n",
       "      <td>4.0</td>\n",
       "      <td>1.0</td>\n",
       "      <td>2020-04</td>\n",
       "      <td>1.0</td>\n",
       "      <td>0.0</td>\n",
       "      <td>0.0</td>\n",
       "      <td>0.0</td>\n",
       "      <td>0.0</td>\n",
       "      <td>0.0</td>\n",
       "      <td>...</td>\n",
       "      <td>0.0</td>\n",
       "      <td>0.0</td>\n",
       "      <td>0.0</td>\n",
       "      <td>0.0</td>\n",
       "      <td>0.0</td>\n",
       "      <td>0.0</td>\n",
       "      <td>3080.0</td>\n",
       "      <td>0.0</td>\n",
       "      <td>0.0</td>\n",
       "      <td>NaN</td>\n",
       "    </tr>\n",
       "    <tr>\n",
       "      <th>3</th>\n",
       "      <td>107.0</td>\n",
       "      <td>4.0</td>\n",
       "      <td>1.0</td>\n",
       "      <td>2020-06</td>\n",
       "      <td>1.0</td>\n",
       "      <td>0.0</td>\n",
       "      <td>0.0</td>\n",
       "      <td>0.0</td>\n",
       "      <td>0.0</td>\n",
       "      <td>0.0</td>\n",
       "      <td>...</td>\n",
       "      <td>0.0</td>\n",
       "      <td>0.0</td>\n",
       "      <td>0.0</td>\n",
       "      <td>0.0</td>\n",
       "      <td>0.0</td>\n",
       "      <td>0.0</td>\n",
       "      <td>3080.0</td>\n",
       "      <td>6.0</td>\n",
       "      <td>6.0</td>\n",
       "      <td>NaN</td>\n",
       "    </tr>\n",
       "    <tr>\n",
       "      <th>4</th>\n",
       "      <td>107.0</td>\n",
       "      <td>4.0</td>\n",
       "      <td>1.0</td>\n",
       "      <td>2020-07</td>\n",
       "      <td>1.0</td>\n",
       "      <td>0.0</td>\n",
       "      <td>0.0</td>\n",
       "      <td>1.0</td>\n",
       "      <td>0.0</td>\n",
       "      <td>0.0</td>\n",
       "      <td>...</td>\n",
       "      <td>0.0</td>\n",
       "      <td>0.0</td>\n",
       "      <td>0.0</td>\n",
       "      <td>0.0</td>\n",
       "      <td>0.0</td>\n",
       "      <td>0.0</td>\n",
       "      <td>3080.0</td>\n",
       "      <td>10.0</td>\n",
       "      <td>10.0</td>\n",
       "      <td>NaN</td>\n",
       "    </tr>\n",
       "    <tr>\n",
       "      <th>...</th>\n",
       "      <td>...</td>\n",
       "      <td>...</td>\n",
       "      <td>...</td>\n",
       "      <td>...</td>\n",
       "      <td>...</td>\n",
       "      <td>...</td>\n",
       "      <td>...</td>\n",
       "      <td>...</td>\n",
       "      <td>...</td>\n",
       "      <td>...</td>\n",
       "      <td>...</td>\n",
       "      <td>...</td>\n",
       "      <td>...</td>\n",
       "      <td>...</td>\n",
       "      <td>...</td>\n",
       "      <td>...</td>\n",
       "      <td>...</td>\n",
       "      <td>...</td>\n",
       "      <td>...</td>\n",
       "      <td>...</td>\n",
       "      <td>...</td>\n",
       "    </tr>\n",
       "    <tr>\n",
       "      <th>166331</th>\n",
       "      <td>233</td>\n",
       "      <td>1656.0</td>\n",
       "      <td>1.0</td>\n",
       "      <td>2018-09</td>\n",
       "      <td>NaN</td>\n",
       "      <td>NaN</td>\n",
       "      <td>NaN</td>\n",
       "      <td>NaN</td>\n",
       "      <td>NaN</td>\n",
       "      <td>NaN</td>\n",
       "      <td>...</td>\n",
       "      <td>NaN</td>\n",
       "      <td>NaN</td>\n",
       "      <td>NaN</td>\n",
       "      <td>NaN</td>\n",
       "      <td>NaN</td>\n",
       "      <td>NaN</td>\n",
       "      <td>NaN</td>\n",
       "      <td>NaN</td>\n",
       "      <td>NaN</td>\n",
       "      <td>8</td>\n",
       "    </tr>\n",
       "    <tr>\n",
       "      <th>166332</th>\n",
       "      <td>226</td>\n",
       "      <td>2006.0</td>\n",
       "      <td>2.0</td>\n",
       "      <td>2018-09</td>\n",
       "      <td>NaN</td>\n",
       "      <td>NaN</td>\n",
       "      <td>NaN</td>\n",
       "      <td>NaN</td>\n",
       "      <td>NaN</td>\n",
       "      <td>NaN</td>\n",
       "      <td>...</td>\n",
       "      <td>NaN</td>\n",
       "      <td>NaN</td>\n",
       "      <td>NaN</td>\n",
       "      <td>NaN</td>\n",
       "      <td>NaN</td>\n",
       "      <td>NaN</td>\n",
       "      <td>NaN</td>\n",
       "      <td>NaN</td>\n",
       "      <td>NaN</td>\n",
       "      <td>1</td>\n",
       "    </tr>\n",
       "    <tr>\n",
       "      <th>166333</th>\n",
       "      <td>233</td>\n",
       "      <td>1645.0</td>\n",
       "      <td>1.0</td>\n",
       "      <td>2018-09</td>\n",
       "      <td>NaN</td>\n",
       "      <td>NaN</td>\n",
       "      <td>NaN</td>\n",
       "      <td>NaN</td>\n",
       "      <td>NaN</td>\n",
       "      <td>NaN</td>\n",
       "      <td>...</td>\n",
       "      <td>NaN</td>\n",
       "      <td>NaN</td>\n",
       "      <td>NaN</td>\n",
       "      <td>NaN</td>\n",
       "      <td>NaN</td>\n",
       "      <td>NaN</td>\n",
       "      <td>NaN</td>\n",
       "      <td>NaN</td>\n",
       "      <td>NaN</td>\n",
       "      <td>8</td>\n",
       "    </tr>\n",
       "    <tr>\n",
       "      <th>166334</th>\n",
       "      <td>240</td>\n",
       "      <td>1435.0</td>\n",
       "      <td>2.0</td>\n",
       "      <td>2018-09</td>\n",
       "      <td>NaN</td>\n",
       "      <td>NaN</td>\n",
       "      <td>NaN</td>\n",
       "      <td>NaN</td>\n",
       "      <td>NaN</td>\n",
       "      <td>NaN</td>\n",
       "      <td>...</td>\n",
       "      <td>NaN</td>\n",
       "      <td>NaN</td>\n",
       "      <td>NaN</td>\n",
       "      <td>NaN</td>\n",
       "      <td>NaN</td>\n",
       "      <td>NaN</td>\n",
       "      <td>NaN</td>\n",
       "      <td>NaN</td>\n",
       "      <td>NaN</td>\n",
       "      <td>10</td>\n",
       "    </tr>\n",
       "    <tr>\n",
       "      <th>166335</th>\n",
       "      <td>145</td>\n",
       "      <td>1.0</td>\n",
       "      <td>1.0</td>\n",
       "      <td>2018-09</td>\n",
       "      <td>NaN</td>\n",
       "      <td>NaN</td>\n",
       "      <td>NaN</td>\n",
       "      <td>NaN</td>\n",
       "      <td>NaN</td>\n",
       "      <td>NaN</td>\n",
       "      <td>...</td>\n",
       "      <td>NaN</td>\n",
       "      <td>NaN</td>\n",
       "      <td>NaN</td>\n",
       "      <td>NaN</td>\n",
       "      <td>NaN</td>\n",
       "      <td>NaN</td>\n",
       "      <td>NaN</td>\n",
       "      <td>NaN</td>\n",
       "      <td>NaN</td>\n",
       "      <td>3</td>\n",
       "    </tr>\n",
       "  </tbody>\n",
       "</table>\n",
       "<p>166336 rows × 250 columns</p>\n",
       "</div>"
      ],
      "text/plain": [
       "       ser_loc zns_loc prs_loc year_month  count_fail  107_repair_count  \\\n",
       "0        107.0     3.0     1.0    2020-01         1.0               0.0   \n",
       "1        107.0     3.0     1.0    2019-03         1.0               0.0   \n",
       "2        107.0     4.0     1.0    2020-04         1.0               0.0   \n",
       "3        107.0     4.0     1.0    2020-06         1.0               0.0   \n",
       "4        107.0     4.0     1.0    2020-07         1.0               0.0   \n",
       "...        ...     ...     ...        ...         ...               ...   \n",
       "166331     233  1656.0     1.0    2018-09         NaN               NaN   \n",
       "166332     226  2006.0     2.0    2018-09         NaN               NaN   \n",
       "166333     233  1645.0     1.0    2018-09         NaN               NaN   \n",
       "166334     240  1435.0     2.0    2018-09         NaN               NaN   \n",
       "166335     145     1.0     1.0    2018-09         NaN               NaN   \n",
       "\n",
       "        307_repair_count  308_repair_count  309_repair_count  \\\n",
       "0                    0.0               0.0               0.0   \n",
       "1                    0.0               0.0               0.0   \n",
       "2                    0.0               0.0               0.0   \n",
       "3                    0.0               0.0               0.0   \n",
       "4                    0.0               1.0               0.0   \n",
       "...                  ...               ...               ...   \n",
       "166331               NaN               NaN               NaN   \n",
       "166332               NaN               NaN               NaN   \n",
       "166333               NaN               NaN               NaN   \n",
       "166334               NaN               NaN               NaN   \n",
       "166335               NaN               NaN               NaN   \n",
       "\n",
       "        521_repair_count  ...  тл-2к1  эд118а  эд118б  эдп810  эк-810ч  \\\n",
       "0                    0.0  ...     0.0     0.0     0.0     0.0      0.0   \n",
       "1                    0.0  ...     0.0     0.0     0.0     0.0      0.0   \n",
       "2                    0.0  ...     0.0     0.0     0.0     0.0      0.0   \n",
       "3                    0.0  ...     0.0     0.0     0.0     0.0      0.0   \n",
       "4                    0.0  ...     0.0     0.0     0.0     0.0      0.0   \n",
       "...                  ...  ...     ...     ...     ...     ...      ...   \n",
       "166331               NaN  ...     NaN     NaN     NaN     NaN      NaN   \n",
       "166332               NaN  ...     NaN     NaN     NaN     NaN      NaN   \n",
       "166333               NaN  ...     NaN     NaN     NaN     NaN      NaN   \n",
       "166334               NaN  ...     NaN     NaN     NaN     NaN      NaN   \n",
       "166335               NaN  ...     NaN     NaN     NaN     NaN      NaN   \n",
       "\n",
       "        экг-8ж   power  last_of_p_data  last_of_in_invent  day  \n",
       "0          0.0  3250.0             0.0                0.0  NaN  \n",
       "1          0.0  3250.0             0.0                0.0  NaN  \n",
       "2          0.0  3080.0             0.0                0.0  NaN  \n",
       "3          0.0  3080.0             6.0                6.0  NaN  \n",
       "4          0.0  3080.0            10.0               10.0  NaN  \n",
       "...        ...     ...             ...                ...  ...  \n",
       "166331     NaN     NaN             NaN                NaN    8  \n",
       "166332     NaN     NaN             NaN                NaN    1  \n",
       "166333     NaN     NaN             NaN                NaN    8  \n",
       "166334     NaN     NaN             NaN                NaN   10  \n",
       "166335     NaN     NaN             NaN                NaN    3  \n",
       "\n",
       "[166336 rows x 250 columns]"
      ]
     },
     "execution_count": 564,
     "metadata": {},
     "output_type": "execute_result"
    }
   ],
   "source": [
    "dataset_merged"
   ]
  },
  {
   "attachments": {},
   "cell_type": "markdown",
   "metadata": {},
   "source": [
    "3. Обработка пропусков после объединения"
   ]
  },
  {
   "attachments": {},
   "cell_type": "markdown",
   "metadata": {},
   "source": [
    "- Убираем пустые занчения в строках, в которых значения в столбце \"count_fail\" == NaN"
   ]
  },
  {
   "cell_type": "code",
   "execution_count": 565,
   "metadata": {},
   "outputs": [],
   "source": [
    "dataset_merged.dropna(subset = ['count_fail'], inplace = True)"
   ]
  },
  {
   "attachments": {},
   "cell_type": "markdown",
   "metadata": {},
   "source": [
    "- Убираем неиспользуемые столбцы из датасета"
   ]
  },
  {
   "cell_type": "code",
   "execution_count": 566,
   "metadata": {},
   "outputs": [],
   "source": [
    "dataset_merged.drop(['date_repair_finish_y_1', 'date_repair_finish_x_2', 'date_repair_finish_y_2', 'date_repair_finish', 'date_repair_finish_x_1'], axis = 1, inplace = True)"
   ]
  },
  {
   "attachments": {},
   "cell_type": "markdown",
   "metadata": {},
   "source": [
    "4. Выбрать метод обучения"
   ]
  },
  {
   "attachments": {},
   "cell_type": "markdown",
   "metadata": {},
   "source": [
    "- Создание модели классификатора. Используем CatBoost"
   ]
  },
  {
   "cell_type": "code",
   "execution_count": 567,
   "metadata": {},
   "outputs": [],
   "source": [
    "iterations = 100\n",
    "learn_rate = 0.2\n",
    "loss_fun = 'CrossEntropy'\n",
    "\n",
    "model = CatBoostClassifier(\n",
    "    iterations = iterations, \n",
    "    learning_rate = learn_rate,\n",
    "    loss_function = loss_fun\n",
    "    )"
   ]
  },
  {
   "attachments": {},
   "cell_type": "markdown",
   "metadata": {},
   "source": [
    "5. Преобразование целевых меток"
   ]
  },
  {
   "attachments": {},
   "cell_type": "markdown",
   "metadata": {},
   "source": [
    "- Заменям значения дней на 1, если не NaN, иначе - 0"
   ]
  },
  {
   "attachments": {},
   "cell_type": "markdown",
   "metadata": {},
   "source": [
    "- - Заменяем NaN во всей таблице на 0"
   ]
  },
  {
   "attachments": {},
   "cell_type": "markdown",
   "metadata": {},
   "source": [
    "- - Устанавливаем 4 значения в качестве индексов (3 первых потому, что они не являются признаками, определяющими информацию в датасете. По последнему сопоставляются данные)"
   ]
  },
  {
   "cell_type": "code",
   "execution_count": 568,
   "metadata": {},
   "outputs": [],
   "source": [
    "dataset_merged['day'] = [1 if day_val > 0 else 0 for day_val in dataset_merged['day']]\n",
    "dataset_merged.fillna(0, inplace = True)\n",
    "dataset_marked = dataset_merged.set_index(['ser_loc','zns_loc','prs_loc','year_month'])"
   ]
  },
  {
   "attachments": {},
   "cell_type": "markdown",
   "metadata": {},
   "source": [
    "6. Инженерия данных"
   ]
  },
  {
   "attachments": {},
   "cell_type": "markdown",
   "metadata": {},
   "source": [
    "* Демонстрация необходиомсти балансировки"
   ]
  },
  {
   "cell_type": "code",
   "execution_count": 569,
   "metadata": {},
   "outputs": [
    {
     "data": {
      "text/plain": [
       "0    165648\n",
       "1        99\n",
       "Name: day, dtype: int64"
      ]
     },
     "execution_count": 569,
     "metadata": {},
     "output_type": "execute_result"
    }
   ],
   "source": [
    "dataset_marked.day.value_counts()"
   ]
  },
  {
   "attachments": {},
   "cell_type": "markdown",
   "metadata": {},
   "source": [
    "- - Общее число единиц и нулей явно сильно разнится"
   ]
  },
  {
   "attachments": {},
   "cell_type": "markdown",
   "metadata": {},
   "source": [
    "- Нормализация данных в датасете"
   ]
  },
  {
   "cell_type": "code",
   "execution_count": 573,
   "metadata": {},
   "outputs": [],
   "source": [
    "arr_scaled = MinMaxScaler().fit_transform(dataset_marked)\n",
    "dataset_marked = pd.DataFrame(arr_scaled, columns=dataset_marked.columns, index=dataset_marked.index)"
   ]
  },
  {
   "attachments": {},
   "cell_type": "markdown",
   "metadata": {},
   "source": [
    "- Разделение датасета на 'Х' - параметры - и 'у' - значения, соответствующие определенным параметрам в таблице"
   ]
  },
  {
   "cell_type": "code",
   "execution_count": 574,
   "metadata": {},
   "outputs": [],
   "source": [
    "X = dataset_marked.drop(columns=['day'])\n",
    "y = dataset_marked[['day']]"
   ]
  },
  {
   "attachments": {},
   "cell_type": "markdown",
   "metadata": {},
   "source": [
    "- Применяем балансировку по причине того, что в столбце \"day\" наблюдается явный дисбаланас единиц и нулей, который не позволит модели адекватно обучиться."
   ]
  },
  {
   "attachments": {},
   "cell_type": "markdown",
   "metadata": {},
   "source": [
    "- - Разбиваем сбалансированные данные на две выборки - тестовую (суффикс test) и тренировочную (суффикс train) в пропорции 4 части датасета - тестовые данные - на 6 частей - тренировочная.\n",
    "Отмечу, что была сбалансирована лишь тренировочная выборка - тестовая только нормирована. Так мы сможем увидеть поведение получившейся модели на реальных данных"
   ]
  },
  {
   "cell_type": "code",
   "execution_count": 575,
   "metadata": {},
   "outputs": [],
   "source": [
    "sm = SMOTE(random_state=random_state_all, k_neighbors=5)\n",
    "\n",
    "X_train, X_test, y_train, y_test = model_selection.train_test_split(X, y, test_size=0.4, random_state=random_state_all)\n",
    "\n",
    "X_res, y_res = sm.fit_resample(X_train, y_train)"
   ]
  },
  {
   "attachments": {},
   "cell_type": "markdown",
   "metadata": {},
   "source": [
    "- - Результат балансировки"
   ]
  },
  {
   "cell_type": "code",
   "execution_count": 638,
   "metadata": {},
   "outputs": [
    {
     "data": {
      "text/html": [
       "<div>\n",
       "<style scoped>\n",
       "    .dataframe tbody tr th:only-of-type {\n",
       "        vertical-align: middle;\n",
       "    }\n",
       "\n",
       "    .dataframe tbody tr th {\n",
       "        vertical-align: top;\n",
       "    }\n",
       "\n",
       "    .dataframe thead th {\n",
       "        text-align: right;\n",
       "    }\n",
       "</style>\n",
       "<table border=\"1\" class=\"dataframe\">\n",
       "  <thead>\n",
       "    <tr style=\"text-align: right;\">\n",
       "      <th></th>\n",
       "      <th>y_test_count</th>\n",
       "      <th>y_resampled_count</th>\n",
       "    </tr>\n",
       "    <tr>\n",
       "      <th>day</th>\n",
       "      <th></th>\n",
       "      <th></th>\n",
       "    </tr>\n",
       "  </thead>\n",
       "  <tbody>\n",
       "    <tr>\n",
       "      <th>0.0</th>\n",
       "      <td>165648</td>\n",
       "      <td>165648</td>\n",
       "    </tr>\n",
       "    <tr>\n",
       "      <th>1.0</th>\n",
       "      <td>165648</td>\n",
       "      <td>165648</td>\n",
       "    </tr>\n",
       "  </tbody>\n",
       "</table>\n",
       "</div>"
      ],
      "text/plain": [
       "     y_test_count  y_resampled_count\n",
       "day                                 \n",
       "0.0        165648             165648\n",
       "1.0        165648             165648"
      ]
     },
     "execution_count": 638,
     "metadata": {},
     "output_type": "execute_result"
    }
   ],
   "source": [
    "pd.DataFrame(y_train.value_counts()).reset_index().set_index('day').rename(columns = {0 : 'y_test_count'}).join(pd.DataFrame(y_res.value_counts()).reset_index().set_index('day').rename(columns = {0 : 'y_resampled_count'}), rsuffix = '_resampled')"
   ]
  },
  {
   "cell_type": "code",
   "execution_count": 636,
   "metadata": {},
   "outputs": [],
   "source": [
    "X_train, y_train = X_res, y_res"
   ]
  },
  {
   "cell_type": "markdown",
   "metadata": {},
   "source": []
  },
  {
   "cell_type": "markdown",
   "metadata": {},
   "source": []
  },
  {
   "attachments": {},
   "cell_type": "markdown",
   "metadata": {},
   "source": [
    "- Проводим обучение модели на  и нормированных данных"
   ]
  },
  {
   "attachments": {},
   "cell_type": "markdown",
   "metadata": {},
   "source": [
    "- - Обучение модели в 1000 итераций на процессоре AMD ryzen 5 5600x заняло полминуты. Будьте осторожны"
   ]
  },
  {
   "cell_type": "code",
   "execution_count": 579,
   "metadata": {},
   "outputs": [],
   "source": [
    "model = model.fit(\n",
    "    X_train,\n",
    "    y_train,\n",
    "    eval_set = (X_test, y_test),\n",
    "    verbose = False\n",
    "    )"
   ]
  },
  {
   "attachments": {},
   "cell_type": "markdown",
   "metadata": {},
   "source": [
    "- Даем модели предсказать значения \"у\" на параметрах, описанных в \"X_test\". Это позволит оценить точность предсказаний получившейся модели путем сравнения полученных данных с \"y_test\""
   ]
  },
  {
   "cell_type": "code",
   "execution_count": 580,
   "metadata": {},
   "outputs": [],
   "source": [
    "y_pred_classifier = model.predict(X_test)"
   ]
  },
  {
   "attachments": {},
   "cell_type": "markdown",
   "metadata": {},
   "source": [
    "- Создаем датасет для удобной работы с получившимися данными и их оценки"
   ]
  },
  {
   "cell_type": "code",
   "execution_count": 581,
   "metadata": {},
   "outputs": [],
   "source": [
    "model_comparison = pd.DataFrame(y_test)\n",
    "model_comparison.rename(columns = {'day' : 'day_test'}, inplace = True)\n",
    "\n",
    "model_comparison = model_comparison.reset_index().drop(model_comparison.reset_index().columns[ : -1], axis = 1)\n",
    "model_comparison = model_comparison.join(pd.DataFrame(y_pred_classifier, columns = ['day_pred']))"
   ]
  },
  {
   "cell_type": "code",
   "execution_count": 582,
   "metadata": {},
   "outputs": [
    {
     "data": {
      "text/html": [
       "<div>\n",
       "<style scoped>\n",
       "    .dataframe tbody tr th:only-of-type {\n",
       "        vertical-align: middle;\n",
       "    }\n",
       "\n",
       "    .dataframe tbody tr th {\n",
       "        vertical-align: top;\n",
       "    }\n",
       "\n",
       "    .dataframe thead th {\n",
       "        text-align: right;\n",
       "    }\n",
       "</style>\n",
       "<table border=\"1\" class=\"dataframe\">\n",
       "  <thead>\n",
       "    <tr style=\"text-align: right;\">\n",
       "      <th></th>\n",
       "      <th>day_test</th>\n",
       "      <th>day_pred</th>\n",
       "    </tr>\n",
       "  </thead>\n",
       "  <tbody>\n",
       "    <tr>\n",
       "      <th>0</th>\n",
       "      <td>0.0</td>\n",
       "      <td>0</td>\n",
       "    </tr>\n",
       "    <tr>\n",
       "      <th>1</th>\n",
       "      <td>0.0</td>\n",
       "      <td>0</td>\n",
       "    </tr>\n",
       "    <tr>\n",
       "      <th>2</th>\n",
       "      <td>0.0</td>\n",
       "      <td>0</td>\n",
       "    </tr>\n",
       "    <tr>\n",
       "      <th>3</th>\n",
       "      <td>0.0</td>\n",
       "      <td>0</td>\n",
       "    </tr>\n",
       "    <tr>\n",
       "      <th>4</th>\n",
       "      <td>0.0</td>\n",
       "      <td>0</td>\n",
       "    </tr>\n",
       "    <tr>\n",
       "      <th>...</th>\n",
       "      <td>...</td>\n",
       "      <td>...</td>\n",
       "    </tr>\n",
       "    <tr>\n",
       "      <th>66294</th>\n",
       "      <td>0.0</td>\n",
       "      <td>0</td>\n",
       "    </tr>\n",
       "    <tr>\n",
       "      <th>66295</th>\n",
       "      <td>0.0</td>\n",
       "      <td>0</td>\n",
       "    </tr>\n",
       "    <tr>\n",
       "      <th>66296</th>\n",
       "      <td>0.0</td>\n",
       "      <td>0</td>\n",
       "    </tr>\n",
       "    <tr>\n",
       "      <th>66297</th>\n",
       "      <td>0.0</td>\n",
       "      <td>0</td>\n",
       "    </tr>\n",
       "    <tr>\n",
       "      <th>66298</th>\n",
       "      <td>0.0</td>\n",
       "      <td>0</td>\n",
       "    </tr>\n",
       "  </tbody>\n",
       "</table>\n",
       "<p>66299 rows × 2 columns</p>\n",
       "</div>"
      ],
      "text/plain": [
       "       day_test  day_pred\n",
       "0           0.0         0\n",
       "1           0.0         0\n",
       "2           0.0         0\n",
       "3           0.0         0\n",
       "4           0.0         0\n",
       "...         ...       ...\n",
       "66294       0.0         0\n",
       "66295       0.0         0\n",
       "66296       0.0         0\n",
       "66297       0.0         0\n",
       "66298       0.0         0\n",
       "\n",
       "[66299 rows x 2 columns]"
      ]
     },
     "execution_count": 582,
     "metadata": {},
     "output_type": "execute_result"
    }
   ],
   "source": [
    "model_comparison"
   ]
  },
  {
   "cell_type": "code",
   "execution_count": 583,
   "metadata": {},
   "outputs": [
    {
     "data": {
      "text/plain": [
       "<sklearn.metrics._plot.confusion_matrix.ConfusionMatrixDisplay at 0x18a76dee530>"
      ]
     },
     "execution_count": 583,
     "metadata": {},
     "output_type": "execute_result"
    },
    {
     "data": {
      "image/png": "[encoded data removed]",
      "image/svg+xml": "<?xml version=\"1.0\" encoding=\"utf-8\" standalone=\"no\"?>\n<!DOCTYPE svg PUBLIC \"-//W3C//DTD SVG 1.1//EN\"\n  \"http://www.w3.org/Graphics/SVG/1.1/DTD/svg11.dtd\">\n<svg xmlns:xlink=\"http://www.w3.org/1999/xlink\" width=\"418.311469pt\" height=\"349.525156pt\" viewBox=\"0 0 418.311469 349.525156\" xmlns=\"http://www.w3.org/2000/svg\" version=\"1.1\">\n <metadata>\n  <rdf:RDF xmlns:dc=\"http://purl.org/dc/elements/1.1/\" xmlns:cc=\"http://creativecommons.org/ns#\" xmlns:rdf=\"http://www.w3.org/1999/02/22-rdf-syntax-ns#\">\n   <cc:Work>\n    <dc:type rdf:resource=\"http://purl.org/dc/dcmitype/StillImage\"/>\n    <dc:date>2022-12-22T04:03:52.514188</dc:date>\n    <dc:format>image/svg+xml</dc:format>\n    <dc:creator>\n     <cc:Agent>\n      <dc:title>Matplotlib v3.6.2, https://matplotlib.org/</dc:title>\n     </cc:Agent>\n    </dc:creator>\n   </cc:Work>\n  </rdf:RDF>\n </metadata>\n <defs>\n  <style type=\"text/css\">*{stroke-linejoin: round; stroke-linecap: butt}</style>\n </defs>\n <g id=\"figure_1\">\n  <g id=\"patch_1\">\n   <path d=\"M 0 349.525156 \nL 418.311469 349.525156 \nL 418.311469 0 \nL 0 0 \nz\n\" style=\"fill: #ffffff\"/>\n  </g>\n  <g id=\"axes_1\">\n   <g id=\"patch_2\">\n    <path d=\"M 33.820781 312.12 \nL 338.740781 312.12 \nL 338.740781 7.2 \nL 33.820781 7.2 \nz\n\" style=\"fill: #ffffff\"/>\n   </g>\n   <g clip-path=\"url(#p2acc6f3f80)\">\n    <image xlink:href=\"data:image/png;base64,\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\" id=\"image639ef02532\" transform=\"scale(1 -1) translate(0 -305.28)\" x=\"33.820781\" y=\"-6.84\" width=\"305.28\" height=\"305.28\"/>\n   </g>\n   <g id=\"matplotlib.axis_1\">\n    <g id=\"xtick_1\">\n     <g id=\"line2d_1\">\n      <path d=\"M 110.050781 312.12 \nL 110.050781 7.2 \n\" clip-path=\"url(#p2acc6f3f80)\" style=\"fill: none; stroke: #cccccc; stroke-linecap: round\"/>\n     </g>\n     <g id=\"line2d_2\"/>\n     <g id=\"text_1\">\n      <!-- 0 -->\n      <g style=\"fill: #262626\" transform=\"translate(107.270313 326.277812) scale(0.1 -0.1)\">\n       <defs>\n        <path id=\"ArialMT-30\" d=\"M 266 2259 \nQ 266 3072 433 3567 \nQ 600 4063 929 4331 \nQ 1259 4600 1759 4600 \nQ 2128 4600 2406 4451 \nQ 2684 4303 2865 4023 \nQ 3047 3744 3150 3342 \nQ 3253 2941 3253 2259 \nQ 3253 1453 3087 958 \nQ 2922 463 2592 192 \nQ 2263 -78 1759 -78 \nQ 1097 -78 719 397 \nQ 266 969 266 2259 \nz\nM 844 2259 \nQ 844 1131 1108 757 \nQ 1372 384 1759 384 \nQ 2147 384 2411 759 \nQ 2675 1134 2675 2259 \nQ 2675 3391 2411 3762 \nQ 2147 4134 1753 4134 \nQ 1366 4134 1134 3806 \nQ 844 3388 844 2259 \nz\n\" transform=\"scale(0.015625)\"/>\n       </defs>\n       <use xlink:href=\"#ArialMT-30\"/>\n      </g>\n     </g>\n    </g>\n    <g id=\"xtick_2\">\n     <g id=\"line2d_3\">\n      <path d=\"M 262.510781 312.12 \nL 262.510781 7.2 \n\" clip-path=\"url(#p2acc6f3f80)\" style=\"fill: none; stroke: #cccccc; stroke-linecap: round\"/>\n     </g>\n     <g id=\"line2d_4\"/>\n     <g id=\"text_2\">\n      <!-- 1 -->\n      <g style=\"fill: #262626\" transform=\"translate(259.730313 326.277812) scale(0.1 -0.1)\">\n       <defs>\n        <path id=\"ArialMT-31\" d=\"M 2384 0 \nL 1822 0 \nL 1822 3584 \nQ 1619 3391 1289 3197 \nQ 959 3003 697 2906 \nL 697 3450 \nQ 1169 3672 1522 3987 \nQ 1875 4303 2022 4600 \nL 2384 4600 \nL 2384 0 \nz\n\" transform=\"scale(0.015625)\"/>\n       </defs>\n       <use xlink:href=\"#ArialMT-31\"/>\n      </g>\n     </g>\n    </g>\n    <g id=\"text_3\">\n     <!-- Predicted label -->\n     <g style=\"fill: #262626\" transform=\"translate(149.899141 340.138906) scale(0.11 -0.11)\">\n      <defs>\n       <path id=\"ArialMT-50\" d=\"M 494 0 \nL 494 4581 \nL 2222 4581 \nQ 2678 4581 2919 4538 \nQ 3256 4481 3484 4323 \nQ 3713 4166 3852 3881 \nQ 3991 3597 3991 3256 \nQ 3991 2672 3619 2267 \nQ 3247 1863 2275 1863 \nL 1100 1863 \nL 1100 0 \nL 494 0 \nz\nM 1100 2403 \nL 2284 2403 \nQ 2872 2403 3119 2622 \nQ 3366 2841 3366 3238 \nQ 3366 3525 3220 3729 \nQ 3075 3934 2838 4000 \nQ 2684 4041 2272 4041 \nL 1100 4041 \nL 1100 2403 \nz\n\" transform=\"scale(0.015625)\"/>\n       <path id=\"ArialMT-72\" d=\"M 416 0 \nL 416 3319 \nL 922 3319 \nL 922 2816 \nQ 1116 3169 1280 3281 \nQ 1444 3394 1641 3394 \nQ 1925 3394 2219 3213 \nL 2025 2691 \nQ 1819 2813 1613 2813 \nQ 1428 2813 1281 2702 \nQ 1134 2591 1072 2394 \nQ 978 2094 978 1738 \nL 978 0 \nL 416 0 \nz\n\" transform=\"scale(0.015625)\"/>\n       <path id=\"ArialMT-65\" d=\"M 2694 1069 \nL 3275 997 \nQ 3138 488 2766 206 \nQ 2394 -75 1816 -75 \nQ 1088 -75 661 373 \nQ 234 822 234 1631 \nQ 234 2469 665 2931 \nQ 1097 3394 1784 3394 \nQ 2450 3394 2872 2941 \nQ 3294 2488 3294 1666 \nQ 3294 1616 3291 1516 \nL 816 1516 \nQ 847 969 1125 678 \nQ 1403 388 1819 388 \nQ 2128 388 2347 550 \nQ 2566 713 2694 1069 \nz\nM 847 1978 \nL 2700 1978 \nQ 2663 2397 2488 2606 \nQ 2219 2931 1791 2931 \nQ 1403 2931 1139 2672 \nQ 875 2413 847 1978 \nz\n\" transform=\"scale(0.015625)\"/>\n       <path id=\"ArialMT-64\" d=\"M 2575 0 \nL 2575 419 \nQ 2259 -75 1647 -75 \nQ 1250 -75 917 144 \nQ 584 363 401 755 \nQ 219 1147 219 1656 \nQ 219 2153 384 2558 \nQ 550 2963 881 3178 \nQ 1213 3394 1622 3394 \nQ 1922 3394 2156 3267 \nQ 2391 3141 2538 2938 \nL 2538 4581 \nL 3097 4581 \nL 3097 0 \nL 2575 0 \nz\nM 797 1656 \nQ 797 1019 1065 703 \nQ 1334 388 1700 388 \nQ 2069 388 2326 689 \nQ 2584 991 2584 1609 \nQ 2584 2291 2321 2609 \nQ 2059 2928 1675 2928 \nQ 1300 2928 1048 2622 \nQ 797 2316 797 1656 \nz\n\" transform=\"scale(0.015625)\"/>\n       <path id=\"ArialMT-69\" d=\"M 425 3934 \nL 425 4581 \nL 988 4581 \nL 988 3934 \nL 425 3934 \nz\nM 425 0 \nL 425 3319 \nL 988 3319 \nL 988 0 \nL 425 0 \nz\n\" transform=\"scale(0.015625)\"/>\n       <path id=\"ArialMT-63\" d=\"M 2588 1216 \nL 3141 1144 \nQ 3050 572 2676 248 \nQ 2303 -75 1759 -75 \nQ 1078 -75 664 370 \nQ 250 816 250 1647 \nQ 250 2184 428 2587 \nQ 606 2991 970 3192 \nQ 1334 3394 1763 3394 \nQ 2303 3394 2647 3120 \nQ 2991 2847 3088 2344 \nL 2541 2259 \nQ 2463 2594 2264 2762 \nQ 2066 2931 1784 2931 \nQ 1359 2931 1093 2626 \nQ 828 2322 828 1663 \nQ 828 994 1084 691 \nQ 1341 388 1753 388 \nQ 2084 388 2306 591 \nQ 2528 794 2588 1216 \nz\n\" transform=\"scale(0.015625)\"/>\n       <path id=\"ArialMT-74\" d=\"M 1650 503 \nL 1731 6 \nQ 1494 -44 1306 -44 \nQ 1000 -44 831 53 \nQ 663 150 594 308 \nQ 525 466 525 972 \nL 525 2881 \nL 113 2881 \nL 113 3319 \nL 525 3319 \nL 525 4141 \nL 1084 4478 \nL 1084 3319 \nL 1650 3319 \nL 1650 2881 \nL 1084 2881 \nL 1084 941 \nQ 1084 700 1114 631 \nQ 1144 563 1211 522 \nQ 1278 481 1403 481 \nQ 1497 481 1650 503 \nz\n\" transform=\"scale(0.015625)\"/>\n       <path id=\"ArialMT-20\" transform=\"scale(0.015625)\"/>\n       <path id=\"ArialMT-6c\" d=\"M 409 0 \nL 409 4581 \nL 972 4581 \nL 972 0 \nL 409 0 \nz\n\" transform=\"scale(0.015625)\"/>\n       <path id=\"ArialMT-61\" d=\"M 2588 409 \nQ 2275 144 1986 34 \nQ 1697 -75 1366 -75 \nQ 819 -75 525 192 \nQ 231 459 231 875 \nQ 231 1119 342 1320 \nQ 453 1522 633 1644 \nQ 813 1766 1038 1828 \nQ 1203 1872 1538 1913 \nQ 2219 1994 2541 2106 \nQ 2544 2222 2544 2253 \nQ 2544 2597 2384 2738 \nQ 2169 2928 1744 2928 \nQ 1347 2928 1158 2789 \nQ 969 2650 878 2297 \nL 328 2372 \nQ 403 2725 575 2942 \nQ 747 3159 1072 3276 \nQ 1397 3394 1825 3394 \nQ 2250 3394 2515 3294 \nQ 2781 3194 2906 3042 \nQ 3031 2891 3081 2659 \nQ 3109 2516 3109 2141 \nL 3109 1391 \nQ 3109 606 3145 398 \nQ 3181 191 3288 0 \nL 2700 0 \nQ 2613 175 2588 409 \nz\nM 2541 1666 \nQ 2234 1541 1622 1453 \nQ 1275 1403 1131 1340 \nQ 988 1278 909 1158 \nQ 831 1038 831 891 \nQ 831 666 1001 516 \nQ 1172 366 1500 366 \nQ 1825 366 2078 508 \nQ 2331 650 2450 897 \nQ 2541 1088 2541 1459 \nL 2541 1666 \nz\n\" transform=\"scale(0.015625)\"/>\n       <path id=\"ArialMT-62\" d=\"M 941 0 \nL 419 0 \nL 419 4581 \nL 981 4581 \nL 981 2947 \nQ 1338 3394 1891 3394 \nQ 2197 3394 2470 3270 \nQ 2744 3147 2920 2923 \nQ 3097 2700 3197 2384 \nQ 3297 2069 3297 1709 \nQ 3297 856 2875 390 \nQ 2453 -75 1863 -75 \nQ 1275 -75 941 416 \nL 941 0 \nz\nM 934 1684 \nQ 934 1088 1097 822 \nQ 1363 388 1816 388 \nQ 2184 388 2453 708 \nQ 2722 1028 2722 1663 \nQ 2722 2313 2464 2622 \nQ 2206 2931 1841 2931 \nQ 1472 2931 1203 2611 \nQ 934 2291 934 1684 \nz\n\" transform=\"scale(0.015625)\"/>\n      </defs>\n      <use xlink:href=\"#ArialMT-50\"/>\n      <use xlink:href=\"#ArialMT-72\" x=\"66.699219\"/>\n      <use xlink:href=\"#ArialMT-65\" x=\"100\"/>\n      <use xlink:href=\"#ArialMT-64\" x=\"155.615234\"/>\n      <use xlink:href=\"#ArialMT-69\" x=\"211.230469\"/>\n      <use xlink:href=\"#ArialMT-63\" x=\"233.447266\"/>\n      <use xlink:href=\"#ArialMT-74\" x=\"283.447266\"/>\n      <use xlink:href=\"#ArialMT-65\" x=\"311.230469\"/>\n      <use xlink:href=\"#ArialMT-64\" x=\"366.845703\"/>\n      <use xlink:href=\"#ArialMT-20\" x=\"422.460938\"/>\n      <use xlink:href=\"#ArialMT-6c\" x=\"450.244141\"/>\n      <use xlink:href=\"#ArialMT-61\" x=\"472.460938\"/>\n      <use xlink:href=\"#ArialMT-62\" x=\"528.076172\"/>\n      <use xlink:href=\"#ArialMT-65\" x=\"583.691406\"/>\n      <use xlink:href=\"#ArialMT-6c\" x=\"639.306641\"/>\n     </g>\n    </g>\n   </g>\n   <g id=\"matplotlib.axis_2\">\n    <g id=\"ytick_1\">\n     <g id=\"line2d_5\">\n      <path d=\"M 33.820781 83.43 \nL 338.740781 83.43 \n\" clip-path=\"url(#p2acc6f3f80)\" style=\"fill: none; stroke: #cccccc; stroke-linecap: round\"/>\n     </g>\n     <g id=\"line2d_6\"/>\n     <g id=\"text_4\">\n      <!-- 0 -->\n      <g style=\"fill: #262626\" transform=\"translate(21.259844 87.008906) scale(0.1 -0.1)\">\n       <use xlink:href=\"#ArialMT-30\"/>\n      </g>\n     </g>\n    </g>\n    <g id=\"ytick_2\">\n     <g id=\"line2d_7\">\n      <path d=\"M 33.820781 235.89 \nL 338.740781 235.89 \n\" clip-path=\"url(#p2acc6f3f80)\" style=\"fill: none; stroke: #cccccc; stroke-linecap: round\"/>\n     </g>\n     <g id=\"line2d_8\"/>\n     <g id=\"text_5\">\n      <!-- 1 -->\n      <g style=\"fill: #262626\" transform=\"translate(21.259844 239.468906) scale(0.1 -0.1)\">\n       <use xlink:href=\"#ArialMT-31\"/>\n      </g>\n     </g>\n    </g>\n    <g id=\"text_6\">\n     <!-- True label -->\n     <g style=\"fill: #262626\" transform=\"translate(15.073594 183.908984) rotate(-90) scale(0.11 -0.11)\">\n      <defs>\n       <path id=\"ArialMT-54\" d=\"M 1659 0 \nL 1659 4041 \nL 150 4041 \nL 150 4581 \nL 3781 4581 \nL 3781 4041 \nL 2266 4041 \nL 2266 0 \nL 1659 0 \nz\n\" transform=\"scale(0.015625)\"/>\n       <path id=\"ArialMT-75\" d=\"M 2597 0 \nL 2597 488 \nQ 2209 -75 1544 -75 \nQ 1250 -75 995 37 \nQ 741 150 617 320 \nQ 494 491 444 738 \nQ 409 903 409 1263 \nL 409 3319 \nL 972 3319 \nL 972 1478 \nQ 972 1038 1006 884 \nQ 1059 663 1231 536 \nQ 1403 409 1656 409 \nQ 1909 409 2131 539 \nQ 2353 669 2445 892 \nQ 2538 1116 2538 1541 \nL 2538 3319 \nL 3100 3319 \nL 3100 0 \nL 2597 0 \nz\n\" transform=\"scale(0.015625)\"/>\n      </defs>\n      <use xlink:href=\"#ArialMT-54\"/>\n      <use xlink:href=\"#ArialMT-72\" x=\"57.333984\"/>\n      <use xlink:href=\"#ArialMT-75\" x=\"90.634766\"/>\n      <use xlink:href=\"#ArialMT-65\" x=\"146.25\"/>\n      <use xlink:href=\"#ArialMT-20\" x=\"201.865234\"/>\n      <use xlink:href=\"#ArialMT-6c\" x=\"229.648438\"/>\n      <use xlink:href=\"#ArialMT-61\" x=\"251.865234\"/>\n      <use xlink:href=\"#ArialMT-62\" x=\"307.480469\"/>\n      <use xlink:href=\"#ArialMT-65\" x=\"363.095703\"/>\n      <use xlink:href=\"#ArialMT-6c\" x=\"418.710938\"/>\n     </g>\n    </g>\n   </g>\n   <g id=\"patch_3\">\n    <path d=\"M 33.820781 312.12 \nL 33.820781 7.2 \n\" style=\"fill: none; stroke: #cccccc; stroke-width: 1.25; stroke-linejoin: miter; stroke-linecap: square\"/>\n   </g>\n   <g id=\"patch_4\">\n    <path d=\"M 338.740781 312.12 \nL 338.740781 7.2 \n\" style=\"fill: none; stroke: #cccccc; stroke-width: 1.25; stroke-linejoin: miter; stroke-linecap: square\"/>\n   </g>\n   <g id=\"patch_5\">\n    <path d=\"M 33.820781 312.12 \nL 338.740781 312.12 \n\" style=\"fill: none; stroke: #cccccc; stroke-width: 1.25; stroke-linejoin: miter; stroke-linecap: square\"/>\n   </g>\n   <g id=\"patch_6\">\n    <path d=\"M 33.820781 7.2 \nL 338.740781 7.2 \n\" style=\"fill: none; stroke: #cccccc; stroke-width: 1.25; stroke-linejoin: miter; stroke-linecap: square\"/>\n   </g>\n   <g id=\"text_7\">\n    <!-- 66257 -->\n    <g style=\"fill: #440154\" transform=\"translate(93.367969 86.532188) scale(0.12 -0.12)\">\n     <defs>\n      <path id=\"ArialMT-36\" d=\"M 3184 3459 \nL 2625 3416 \nQ 2550 3747 2413 3897 \nQ 2184 4138 1850 4138 \nQ 1581 4138 1378 3988 \nQ 1113 3794 959 3422 \nQ 806 3050 800 2363 \nQ 1003 2672 1297 2822 \nQ 1591 2972 1913 2972 \nQ 2475 2972 2870 2558 \nQ 3266 2144 3266 1488 \nQ 3266 1056 3080 686 \nQ 2894 316 2569 119 \nQ 2244 -78 1831 -78 \nQ 1128 -78 684 439 \nQ 241 956 241 2144 \nQ 241 3472 731 4075 \nQ 1159 4600 1884 4600 \nQ 2425 4600 2770 4297 \nQ 3116 3994 3184 3459 \nz\nM 888 1484 \nQ 888 1194 1011 928 \nQ 1134 663 1356 523 \nQ 1578 384 1822 384 \nQ 2178 384 2434 671 \nQ 2691 959 2691 1453 \nQ 2691 1928 2437 2201 \nQ 2184 2475 1800 2475 \nQ 1419 2475 1153 2201 \nQ 888 1928 888 1484 \nz\n\" transform=\"scale(0.015625)\"/>\n      <path id=\"ArialMT-32\" d=\"M 3222 541 \nL 3222 0 \nL 194 0 \nQ 188 203 259 391 \nQ 375 700 629 1000 \nQ 884 1300 1366 1694 \nQ 2113 2306 2375 2664 \nQ 2638 3022 2638 3341 \nQ 2638 3675 2398 3904 \nQ 2159 4134 1775 4134 \nQ 1369 4134 1125 3890 \nQ 881 3647 878 3216 \nL 300 3275 \nQ 359 3922 746 4261 \nQ 1134 4600 1788 4600 \nQ 2447 4600 2831 4234 \nQ 3216 3869 3216 3328 \nQ 3216 3053 3103 2787 \nQ 2991 2522 2730 2228 \nQ 2469 1934 1863 1422 \nQ 1356 997 1212 845 \nQ 1069 694 975 541 \nL 3222 541 \nz\n\" transform=\"scale(0.015625)\"/>\n      <path id=\"ArialMT-35\" d=\"M 266 1200 \nL 856 1250 \nQ 922 819 1161 601 \nQ 1400 384 1738 384 \nQ 2144 384 2425 690 \nQ 2706 997 2706 1503 \nQ 2706 1984 2436 2262 \nQ 2166 2541 1728 2541 \nQ 1456 2541 1237 2417 \nQ 1019 2294 894 2097 \nL 366 2166 \nL 809 4519 \nL 3088 4519 \nL 3088 3981 \nL 1259 3981 \nL 1013 2750 \nQ 1425 3038 1878 3038 \nQ 2478 3038 2890 2622 \nQ 3303 2206 3303 1553 \nQ 3303 931 2941 478 \nQ 2500 -78 1738 -78 \nQ 1113 -78 717 272 \nQ 322 622 266 1200 \nz\n\" transform=\"scale(0.015625)\"/>\n      <path id=\"ArialMT-37\" d=\"M 303 3981 \nL 303 4522 \nL 3269 4522 \nL 3269 4084 \nQ 2831 3619 2401 2847 \nQ 1972 2075 1738 1259 \nQ 1569 684 1522 0 \nL 944 0 \nQ 953 541 1156 1306 \nQ 1359 2072 1739 2783 \nQ 2119 3494 2547 3981 \nL 303 3981 \nz\n\" transform=\"scale(0.015625)\"/>\n     </defs>\n     <use xlink:href=\"#ArialMT-36\"/>\n     <use xlink:href=\"#ArialMT-36\" x=\"55.615234\"/>\n     <use xlink:href=\"#ArialMT-32\" x=\"111.230469\"/>\n     <use xlink:href=\"#ArialMT-35\" x=\"166.845703\"/>\n     <use xlink:href=\"#ArialMT-37\" x=\"222.460938\"/>\n    </g>\n   </g>\n   <g id=\"text_8\">\n    <!-- 1 -->\n    <g style=\"fill: #fde725\" transform=\"translate(259.174219 86.532188) scale(0.12 -0.12)\">\n     <use xlink:href=\"#ArialMT-31\"/>\n    </g>\n   </g>\n   <g id=\"text_9\">\n    <!-- 19 -->\n    <g style=\"fill: #fde725\" transform=\"translate(103.377656 238.992188) scale(0.12 -0.12)\">\n     <defs>\n      <path id=\"ArialMT-39\" d=\"M 350 1059 \nL 891 1109 \nQ 959 728 1153 556 \nQ 1347 384 1650 384 \nQ 1909 384 2104 503 \nQ 2300 622 2425 820 \nQ 2550 1019 2634 1356 \nQ 2719 1694 2719 2044 \nQ 2719 2081 2716 2156 \nQ 2547 1888 2255 1720 \nQ 1963 1553 1622 1553 \nQ 1053 1553 659 1965 \nQ 266 2378 266 3053 \nQ 266 3750 677 4175 \nQ 1088 4600 1706 4600 \nQ 2153 4600 2523 4359 \nQ 2894 4119 3086 3673 \nQ 3278 3228 3278 2384 \nQ 3278 1506 3087 986 \nQ 2897 466 2520 194 \nQ 2144 -78 1638 -78 \nQ 1100 -78 759 220 \nQ 419 519 350 1059 \nz\nM 2653 3081 \nQ 2653 3566 2395 3850 \nQ 2138 4134 1775 4134 \nQ 1400 4134 1122 3828 \nQ 844 3522 844 3034 \nQ 844 2597 1108 2323 \nQ 1372 2050 1759 2050 \nQ 2150 2050 2401 2323 \nQ 2653 2597 2653 3081 \nz\n\" transform=\"scale(0.015625)\"/>\n     </defs>\n     <use xlink:href=\"#ArialMT-31\"/>\n     <use xlink:href=\"#ArialMT-39\" x=\"55.615234\"/>\n    </g>\n   </g>\n   <g id=\"text_10\">\n    <!-- 22 -->\n    <g style=\"fill: #fde725\" transform=\"translate(255.837656 238.992188) scale(0.12 -0.12)\">\n     <use xlink:href=\"#ArialMT-32\"/>\n     <use xlink:href=\"#ArialMT-32\" x=\"55.615234\"/>\n    </g>\n   </g>\n  </g>\n  <g id=\"axes_2\">\n   <g id=\"patch_7\">\n    <path d=\"M 361.060781 312.12 \nL 376.306781 312.12 \nL 376.306781 7.2 \nL 361.060781 7.2 \nz\n\" style=\"fill: #ffffff\"/>\n   </g>\n   <g id=\"patch_8\">\n    <path clip-path=\"url(#p3408929271)\" style=\"fill: #ffffff; stroke: #ffffff; stroke-width: 0.01; stroke-linejoin: miter\"/>\n   </g>\n   <g id=\"matplotlib.axis_3\"/>\n   <g id=\"matplotlib.axis_4\">\n    <g id=\"ytick_3\">\n     <g id=\"line2d_9\"/>\n     <g id=\"text_11\">\n      <!-- 10000 -->\n      <g style=\"fill: #262626\" transform=\"translate(383.306781 269.682016) scale(0.1 -0.1)\">\n       <use xlink:href=\"#ArialMT-31\"/>\n       <use xlink:href=\"#ArialMT-30\" x=\"55.615234\"/>\n       <use xlink:href=\"#ArialMT-30\" x=\"111.230469\"/>\n       <use xlink:href=\"#ArialMT-30\" x=\"166.845703\"/>\n       <use xlink:href=\"#ArialMT-30\" x=\"222.460938\"/>\n      </g>\n     </g>\n    </g>\n    <g id=\"ytick_4\">\n     <g id=\"line2d_10\"/>\n     <g id=\"text_12\">\n      <!-- 20000 -->\n      <g style=\"fill: #262626\" transform=\"translate(383.306781 223.660524) scale(0.1 -0.1)\">\n       <use xlink:href=\"#ArialMT-32\"/>\n       <use xlink:href=\"#ArialMT-30\" x=\"55.615234\"/>\n       <use xlink:href=\"#ArialMT-30\" x=\"111.230469\"/>\n       <use xlink:href=\"#ArialMT-30\" x=\"166.845703\"/>\n       <use xlink:href=\"#ArialMT-30\" x=\"222.460938\"/>\n      </g>\n     </g>\n    </g>\n    <g id=\"ytick_5\">\n     <g id=\"line2d_11\"/>\n     <g id=\"text_13\">\n      <!-- 30000 -->\n      <g style=\"fill: #262626\" transform=\"translate(383.306781 177.639031) scale(0.1 -0.1)\">\n       <defs>\n        <path id=\"ArialMT-33\" d=\"M 269 1209 \nL 831 1284 \nQ 928 806 1161 595 \nQ 1394 384 1728 384 \nQ 2125 384 2398 659 \nQ 2672 934 2672 1341 \nQ 2672 1728 2419 1979 \nQ 2166 2231 1775 2231 \nQ 1616 2231 1378 2169 \nL 1441 2663 \nQ 1497 2656 1531 2656 \nQ 1891 2656 2178 2843 \nQ 2466 3031 2466 3422 \nQ 2466 3731 2256 3934 \nQ 2047 4138 1716 4138 \nQ 1388 4138 1169 3931 \nQ 950 3725 888 3313 \nL 325 3413 \nQ 428 3978 793 4289 \nQ 1159 4600 1703 4600 \nQ 2078 4600 2393 4439 \nQ 2709 4278 2876 4000 \nQ 3044 3722 3044 3409 \nQ 3044 3113 2884 2869 \nQ 2725 2625 2413 2481 \nQ 2819 2388 3044 2092 \nQ 3269 1797 3269 1353 \nQ 3269 753 2831 336 \nQ 2394 -81 1725 -81 \nQ 1122 -81 723 278 \nQ 325 638 269 1209 \nz\n\" transform=\"scale(0.015625)\"/>\n       </defs>\n       <use xlink:href=\"#ArialMT-33\"/>\n       <use xlink:href=\"#ArialMT-30\" x=\"55.615234\"/>\n       <use xlink:href=\"#ArialMT-30\" x=\"111.230469\"/>\n       <use xlink:href=\"#ArialMT-30\" x=\"166.845703\"/>\n       <use xlink:href=\"#ArialMT-30\" x=\"222.460938\"/>\n      </g>\n     </g>\n    </g>\n    <g id=\"ytick_6\">\n     <g id=\"line2d_12\"/>\n     <g id=\"text_14\">\n      <!-- 40000 -->\n      <g style=\"fill: #262626\" transform=\"translate(383.306781 131.617539) scale(0.1 -0.1)\">\n       <defs>\n        <path id=\"ArialMT-34\" d=\"M 2069 0 \nL 2069 1097 \nL 81 1097 \nL 81 1613 \nL 2172 4581 \nL 2631 4581 \nL 2631 1613 \nL 3250 1613 \nL 3250 1097 \nL 2631 1097 \nL 2631 0 \nL 2069 0 \nz\nM 2069 1613 \nL 2069 3678 \nL 634 1613 \nL 2069 1613 \nz\n\" transform=\"scale(0.015625)\"/>\n       </defs>\n       <use xlink:href=\"#ArialMT-34\"/>\n       <use xlink:href=\"#ArialMT-30\" x=\"55.615234\"/>\n       <use xlink:href=\"#ArialMT-30\" x=\"111.230469\"/>\n       <use xlink:href=\"#ArialMT-30\" x=\"166.845703\"/>\n       <use xlink:href=\"#ArialMT-30\" x=\"222.460938\"/>\n      </g>\n     </g>\n    </g>\n    <g id=\"ytick_7\">\n     <g id=\"line2d_13\"/>\n     <g id=\"text_15\">\n      <!-- 50000 -->\n      <g style=\"fill: #262626\" transform=\"translate(383.306781 85.596046) scale(0.1 -0.1)\">\n       <use xlink:href=\"#ArialMT-35\"/>\n       <use xlink:href=\"#ArialMT-30\" x=\"55.615234\"/>\n       <use xlink:href=\"#ArialMT-30\" x=\"111.230469\"/>\n       <use xlink:href=\"#ArialMT-30\" x=\"166.845703\"/>\n       <use xlink:href=\"#ArialMT-30\" x=\"222.460938\"/>\n      </g>\n     </g>\n    </g>\n    <g id=\"ytick_8\">\n     <g id=\"line2d_14\"/>\n     <g id=\"text_16\">\n      <!-- 60000 -->\n      <g style=\"fill: #262626\" transform=\"translate(383.306781 39.574554) scale(0.1 -0.1)\">\n       <use xlink:href=\"#ArialMT-36\"/>\n       <use xlink:href=\"#ArialMT-30\" x=\"55.615234\"/>\n       <use xlink:href=\"#ArialMT-30\" x=\"111.230469\"/>\n       <use xlink:href=\"#ArialMT-30\" x=\"166.845703\"/>\n       <use xlink:href=\"#ArialMT-30\" x=\"222.460938\"/>\n      </g>\n     </g>\n    </g>\n   </g>\n   <image xlink:href=\"data:image/png;base64,\niVBORw0KGgoAAAANSUhEUgAAABYAAAGnCAYAAACzVadfAAACRElEQVR4nO2dwW0EMQwD7T2XlhLSfym5PE6SrwE+BhgWQAgkRXkDJNk/+/e9AngSpGutddbOcJ/97AgxT4rcxCmNgVIsYNxC5u0HZ15KiqUUBd7mnW0JFXhxQ+YYFzfNKxAnzr3dcFJY9EMMNM+Jm9jzX8hN/M6ZF+HVvAsfLINYjpM3L0XMkyKVY1PR0LxBUooMMdE8c1xI3rwQMU8K3ub58G5Y9Jc4tdLW5iBZmxli3s/dNG/Ak4LXFUgpQsREKSyhIgaWEO616eY13LxLDNw83MRuXsO4XWKiFLTadPMawLhpXgNonrXZUIoBcGLNa5zIb6QtYtyI5uEm9vw3gHHTvIbmXWLNa/CKHigFb2LN4xJr3gA4seY1lGJw1s589GrewBIaaN4AOXGmK3hfTTxiP3kHwJvnj3kbyIlDtcmTwq74Io7wJv+GHm5izWsEL8jymH6Q3Dxz/EFMCl7c7OMBL25A89y8IeZJEVICGDeiebiueDSvgJw4RJxKheYNzhP6HLOELjEwFbiJY+efJ0VqpTVv4OYNcrUJlAK3eZrXcOIvYnNcSE78lyLGSWHcLnEmFTkpXsZtiHHm8bripXmFXAkRV1rzivilFIXkzUu93XAvoZQUwId36jTxpPD8D5JS0Cb25jWItZnaPKIUtIlTL3rg5ln0lxj38E5tHrCEgJvnBSkQPxXcvALRPM9/QfMuMU8K3sSh/6qElCJEnPxqShGHftNE8wbnlfoPUw/OPGLcQualUpGUIsNNzPHOcPPM+wdchY5QVOUwYwAAAABJRU5ErkJggg==\" id=\"image885c2bf5f2\" transform=\"scale(1 -1) translate(0 -304.56)\" x=\"360.72\" y=\"-7.2\" width=\"15.84\" height=\"304.56\"/>\n   <g id=\"LineCollection_1\"/>\n   <g id=\"patch_9\">\n    <path d=\"M 361.060781 312.12 \nL 368.683781 312.12 \nL 376.306781 312.12 \nL 376.306781 7.2 \nL 368.683781 7.2 \nL 361.060781 7.2 \nL 361.060781 312.12 \nz\n\" style=\"fill: none; stroke: #cccccc; stroke-width: 1.25; stroke-linejoin: miter; stroke-linecap: square\"/>\n   </g>\n  </g>\n </g>\n <defs>\n  <clipPath id=\"p2acc6f3f80\">\n   <rect x=\"33.820781\" y=\"7.2\" width=\"304.92\" height=\"304.92\"/>\n  </clipPath>\n  <clipPath id=\"p3408929271\">\n   <rect x=\"361.060781\" y=\"7.2\" width=\"15.246\" height=\"304.92\"/>\n  </clipPath>\n </defs>\n</svg>\n",
      "text/plain": [
       "<Figure size 800x550 with 2 Axes>"
      ]
     },
     "metadata": {},
     "output_type": "display_data"
    }
   ],
   "source": [
    "confusion_matrix_plot = confusion_matrix(model_comparison.day_test, model_comparison.day_pred, labels=model.classes_)\n",
    "confusion_matrix_display = metrics.ConfusionMatrixDisplay(confusion_matrix=confusion_matrix_plot, display_labels=model.classes_)\n",
    "confusion_matrix_display.plot()"
   ]
  },
  {
   "cell_type": "code",
   "execution_count": 584,
   "metadata": {},
   "outputs": [],
   "source": [
    "def f1_score_selfmade(confusion_matrix_inner):\n",
    "    true_negative, false_positive, false_negative, true_positive = confusion_matrix_inner.ravel()\n",
    "    precission = true_positive / (true_positive + false_positive)\n",
    "    recall = true_positive / (true_positive + false_negative)\n",
    "\n",
    "    return(2 * (precission * recall) / (precission + recall))"
   ]
  },
  {
   "cell_type": "code",
   "execution_count": 585,
   "metadata": {},
   "outputs": [
    {
     "name": "stdout",
     "output_type": "stream",
     "text": [
      "F1 score selfmade - 0.6875000000000001\n",
      "F1 score ontegrated - 0.6875000000000001\n",
      "ROC AUC integrated - 0.7682851366682641\n",
      "\n"
     ]
    }
   ],
   "source": [
    "print(f'''F1 score selfmade - {f1_score_selfmade(confusion_matrix_plot)}\n",
    "F1 score integrated - {metrics.f1_score(y_test['day_test'], y_pred_classifier)}\n",
    "ROC AUC integrated - {metrics.roc_auc_score(y_test['day_test'], y_pred_classifier)}\n",
    "''')"
   ]
  }
 ],
 "metadata": {
  "kernelspec": {
   "display_name": "Python 3",
   "language": "python",
   "name": "python3"
  },
  "language_info": {
   "codemirror_mode": {
    "name": "ipython",
    "version": 3
   },
   "file_extension": ".py",
   "mimetype": "text/x-python",
   "name": "python",
   "nbconvert_exporter": "python",
   "pygments_lexer": "ipython3",
   "version": "3.10.8 (tags/v3.10.8:aaaf517, Oct 11 2022, 16:50:30) [MSC v.1933 64 bit (AMD64)]"
  },
  "orig_nbformat": 4,
  "vscode": {
   "interpreter": {
    "hash": "1ffdadc0d1415b19035eba2fd8fd9ccd276098cbb8bade42baf9c70e83fa5937"
   }
  }
 },
 "nbformat": 4,
 "nbformat_minor": 2
}
