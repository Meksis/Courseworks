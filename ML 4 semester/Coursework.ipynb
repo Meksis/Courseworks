{
 "cells": [
  {
   "cell_type": "code",
   "execution_count": 21,
   "metadata": {},
   "outputs": [],
   "source": [
    "import bs4\n",
    "import os\n",
    "import re\n",
    "\n",
    "import pandas as pd\n",
    "import sklearn as sk\n",
    "\n",
    "# from sklearn import model_selection\n",
    "from sklearn.metrics import *\n",
    "from sklearn.naive_bayes import MultinomialNB\n",
    "from sklearn.feature_extraction.text import CountVectorizer\n",
    "\n",
    "random_state_all = 1"
   ]
  },
  {
   "cell_type": "code",
   "execution_count": 22,
   "metadata": {},
   "outputs": [],
   "source": [
    "def parser(path : str) -> list:\n",
    "    filenames = [html for html in os.listdir(path) if '.html' in html]      # Собираем имена файлов с разрешением html в папке, переданной в параметр path\n",
    "    messages_all = []                                                       # Переменная для хранения сообщений\n",
    "\n",
    "    for file in filenames:                                                  # Перебираем имена файлов, собранных ранее\n",
    "        with open(f'{path}\\{file}', \"rb\") as html_file:                      # Открываем файл на чтение\n",
    "            index = html_file.read()                                        # Записываем содержимое файла (html-разметку страницы) в переменную\n",
    "\n",
    "        page = bs4.BeautifulSoup(index)                                     # Создаем объект bs4, позволяющий парсить html\n",
    "\n",
    "        messages = page.find_all('div', class_='text')                      # Собираем все элементы div с классом text (сообщения) в список\n",
    "\n",
    "        for name in messages:                                               # Перебираем каждое сообщение\n",
    "            messages_all.append(name.text.strip())                          # Дополняем список всех сообщений чата взятым на этой итерации сообщением с убранными пробелами по краям\n",
    "    \n",
    "    return(messages_all)                                                    # Возвращаем результат работы"
   ]
  },
  {
   "cell_type": "code",
   "execution_count": 23,
   "metadata": {},
   "outputs": [],
   "source": [
    "def balancer(df1 : pd.DataFrame, df2 : pd.DataFrame) -> pd.DataFrame:           # Функция принимаем на вход два объекта типа DataFrame и его же возвращает\n",
    "    if len(df1) > len(df2):                                                     # Если количество элементов первого датафрейма больше, чем у второго\n",
    "        return(df1.sample(n = len(df2)).reset_index().drop('index', axis = 1))  # Возвращаем датафрейм, собранным из случайных элементов первого датафрейма\n",
    "\n",
    "    elif len(df1) < len(df2):                                                   # Если количество элементов второго датафрейма больше, чем у первого\n",
    "        return(df2.sample(n = len(df1)).reset_index().drop('index', axis = 1))  # Возвращаем датафрейм, собранным из случайных элементов второго датафрейма"
   ]
  },
  {
   "cell_type": "code",
   "execution_count": 24,
   "metadata": {},
   "outputs": [],
   "source": [
    "petersburg_transport = parser('K:\\Downloads\\Telegram Desktop\\Транспорт Петербурга. Организатор перевозок')\n",
    "moscow_transport = parser('K:\\Downloads\\Telegram Desktop\\Дептранс Москвы')"
   ]
  },
  {
   "cell_type": "code",
   "execution_count": 25,
   "metadata": {},
   "outputs": [],
   "source": [
    "petersburg_df = pd.DataFrame(petersburg_transport, columns = ['text']).dropna().drop_duplicates()   # Создаем датафрейм из данных парсера со столбцом text, удаляем пустые значения и дубликаты\n",
    "petersburg_df['y'] = petersburg_transport[0]                                                        # Первая строка - название канала.\n",
    "petersburg_df['text'] = petersburg_df['text'].apply(lambda x: re.sub('[^\\w\\s#@/:%.,!?_-]', '', x))  # Замена символов, формирующих смайлики, на пустоту\n",
    "petersburg_df = pd.DataFrame(petersburg_df.loc()[1:])                                               # Убираем первую строку из датафрейма"
   ]
  },
  {
   "cell_type": "code",
   "execution_count": 26,
   "metadata": {},
   "outputs": [],
   "source": [
    "moscow_df = pd.DataFrame(moscow_transport, columns = ['text']).dropna().drop_duplicates()   # Создаем датафрейм из данных парсера со столбцом text, удаляем пустые значения и дубликаты\n",
    "moscow_df['y'] = moscow_transport[0]                                                        # Первая строка - название канала.\n",
    "moscow_df['text'] = moscow_df['text'].apply(lambda x: re.sub('[^\\w\\s#@/:%.,!?_-]', '', x))  # Замена символов, формирующих смайлики, на пустоту\n",
    "moscow_df = pd.DataFrame(moscow_df.loc()[1:])                                               # Убираем первую строку из датафрейма"
   ]
  },
  {
   "attachments": {},
   "cell_type": "markdown",
   "metadata": {},
   "source": [
    "Объем данных до балансировки"
   ]
  },
  {
   "cell_type": "code",
   "execution_count": 27,
   "metadata": {},
   "outputs": [
    {
     "name": "stdout",
     "output_type": "stream",
     "text": [
      "Дептранс Москвы - 12535\n",
      "Транспорт Питера - 3604\n"
     ]
    }
   ],
   "source": [
    "print(f\"Дептранс Москвы - {len(moscow_df)}\\nТранспорт Питера - {len(petersburg_df)}\")"
   ]
  },
  {
   "cell_type": "code",
   "execution_count": 28,
   "metadata": {},
   "outputs": [],
   "source": [
    "moscow_df = balancer(moscow_df, petersburg_df)"
   ]
  },
  {
   "attachments": {},
   "cell_type": "markdown",
   "metadata": {},
   "source": [
    "Объем данных после балансировки"
   ]
  },
  {
   "cell_type": "code",
   "execution_count": 29,
   "metadata": {},
   "outputs": [
    {
     "name": "stdout",
     "output_type": "stream",
     "text": [
      "Дептранс Москвы - 3604\n",
      "Транспорт Питера - 3604\n"
     ]
    }
   ],
   "source": [
    "print(f\"Дептранс Москвы - {len(moscow_df)}\\nТранспорт Питера - {len(petersburg_df)}\")"
   ]
  },
  {
   "cell_type": "code",
   "execution_count": 30,
   "metadata": {},
   "outputs": [],
   "source": [
    "transports_df = pd.concat([petersburg_df, moscow_df], ignore_index=True)                    # Создаем объединенный датафрейм по сообщениям из двух городов"
   ]
  },
  {
   "cell_type": "code",
   "execution_count": 31,
   "metadata": {},
   "outputs": [
    {
     "data": {
      "text/html": [
       "<div>\n",
       "<style scoped>\n",
       "    .dataframe tbody tr th:only-of-type {\n",
       "        vertical-align: middle;\n",
       "    }\n",
       "\n",
       "    .dataframe tbody tr th {\n",
       "        vertical-align: top;\n",
       "    }\n",
       "\n",
       "    .dataframe thead th {\n",
       "        text-align: right;\n",
       "    }\n",
       "</style>\n",
       "<table border=\"1\" class=\"dataframe\">\n",
       "  <thead>\n",
       "    <tr style=\"text-align: right;\">\n",
       "      <th></th>\n",
       "      <th>text</th>\n",
       "      <th>y</th>\n",
       "    </tr>\n",
       "  </thead>\n",
       "  <tbody>\n",
       "    <tr>\n",
       "      <th>0</th>\n",
       "      <td>Станция Адмиралтейская закрыта на вход и выход.</td>\n",
       "      <td>Транспорт Петербурга. Организатор перевозок</td>\n",
       "    </tr>\n",
       "    <tr>\n",
       "      <th>1</th>\n",
       "      <td>Станция Адмиралтейская открыта для пассажиров.</td>\n",
       "      <td>Транспорт Петербурга. Организатор перевозок</td>\n",
       "    </tr>\n",
       "    <tr>\n",
       "      <th>2</th>\n",
       "      <td>8 апреля с 9 до 15 часов на Конногвардейском б...</td>\n",
       "      <td>Транспорт Петербурга. Организатор перевозок</td>\n",
       "    </tr>\n",
       "    <tr>\n",
       "      <th>3</th>\n",
       "      <td>8, 9, 10 апреля, работы на теплосети на ул. Се...</td>\n",
       "      <td>Транспорт Петербурга. Организатор перевозок</td>\n",
       "    </tr>\n",
       "    <tr>\n",
       "      <th>4</th>\n",
       "      <td>9 апреля с 9:30 до 12:30 на Исаакиевской пл. п...</td>\n",
       "      <td>Транспорт Петербурга. Организатор перевозок</td>\n",
       "    </tr>\n",
       "    <tr>\n",
       "      <th>...</th>\n",
       "      <td>...</td>\n",
       "      <td>...</td>\n",
       "    </tr>\n",
       "    <tr>\n",
       "      <th>7203</th>\n",
       "      <td>В Москве поэтапно развивается один из крупнейш...</td>\n",
       "      <td>Дептранс Москвы</td>\n",
       "    </tr>\n",
       "    <tr>\n",
       "      <th>7204</th>\n",
       "      <td>В Лианозово идет строительство новой станции м...</td>\n",
       "      <td>Дептранс Москвы</td>\n",
       "    </tr>\n",
       "    <tr>\n",
       "      <th>7205</th>\n",
       "      <td>Такие плакаты Ночлежки появились в переходах и...</td>\n",
       "      <td>Дептранс Москвы</td>\n",
       "    </tr>\n",
       "    <tr>\n",
       "      <th>7206</th>\n",
       "      <td>- Определены 24 новых автобусных маршрута, кот...</td>\n",
       "      <td>Дептранс Москвы</td>\n",
       "    </tr>\n",
       "    <tr>\n",
       "      <th>7207</th>\n",
       "      <td>Теперь в 7 ТПУ можно сдать экспресс-тест на CO...</td>\n",
       "      <td>Дептранс Москвы</td>\n",
       "    </tr>\n",
       "  </tbody>\n",
       "</table>\n",
       "<p>7208 rows × 2 columns</p>\n",
       "</div>"
      ],
      "text/plain": [
       "                                                   text   \n",
       "0       Станция Адмиралтейская закрыта на вход и выход.  \\\n",
       "1        Станция Адмиралтейская открыта для пассажиров.   \n",
       "2     8 апреля с 9 до 15 часов на Конногвардейском б...   \n",
       "3     8, 9, 10 апреля, работы на теплосети на ул. Се...   \n",
       "4     9 апреля с 9:30 до 12:30 на Исаакиевской пл. п...   \n",
       "...                                                 ...   \n",
       "7203  В Москве поэтапно развивается один из крупнейш...   \n",
       "7204  В Лианозово идет строительство новой станции м...   \n",
       "7205  Такие плакаты Ночлежки появились в переходах и...   \n",
       "7206  - Определены 24 новых автобусных маршрута, кот...   \n",
       "7207  Теперь в 7 ТПУ можно сдать экспресс-тест на CO...   \n",
       "\n",
       "                                                y  \n",
       "0     Транспорт Петербурга. Организатор перевозок  \n",
       "1     Транспорт Петербурга. Организатор перевозок  \n",
       "2     Транспорт Петербурга. Организатор перевозок  \n",
       "3     Транспорт Петербурга. Организатор перевозок  \n",
       "4     Транспорт Петербурга. Организатор перевозок  \n",
       "...                                           ...  \n",
       "7203                              Дептранс Москвы  \n",
       "7204                              Дептранс Москвы  \n",
       "7205                              Дептранс Москвы  \n",
       "7206                              Дептранс Москвы  \n",
       "7207                              Дептранс Москвы  \n",
       "\n",
       "[7208 rows x 2 columns]"
      ]
     },
     "execution_count": 31,
     "metadata": {},
     "output_type": "execute_result"
    }
   ],
   "source": [
    "transports_df"
   ]
  },
  {
   "attachments": {},
   "cell_type": "markdown",
   "metadata": {},
   "source": [
    "Передаю мешку слов датафрейм с сообщениями без изменений, поскольку токенизация происходит внутри библиотеки. Если попытаться сделать тоекнизацию и отдать на преобразование векторизатору датафрейм, где в каждой строке столбца text будет массив токенов, то будет выдана ошибка. Объяснения есть ниже.\n",
    "\n",
    "Выдержка из комментария к библиотеке:\n",
    "\n",
    "input : {'filename', 'file', 'content'}, default='content'\n",
    "\n",
    "        * If `'filename'`, the sequence passed as an argument to fit is\n",
    "          expected to be a list of filenames that need reading to fetch\n",
    "          the raw content to analyze.\n",
    "\n",
    "        * If `'file'`, the sequence items must have a 'read' method (file-like\n",
    "          object) that is called to fetch the bytes in memory.\n",
    "\n",
    "        * If `'content'`, the input is expected to be a sequence of items that\n",
    "          can be of type string or byte.\n",
    "\n",
    "Изо всех вариантов выше видно, что нам максимально подходит только третий, где передаваемая информация должна быть итерируемым массивом из элементов типа строк и байтов."
   ]
  },
  {
   "cell_type": "code",
   "execution_count": 35,
   "metadata": {},
   "outputs": [
    {
     "name": "stdout",
     "output_type": "stream",
     "text": [
      "Точность: 0.9766151407055094\n",
      "f1-мера: 0.9766151407055094\n",
      "Предсказание введенного текста: Дептранс Москвы\n"
     ]
    },
    {
     "data": {
      "image/png": "[encoded data removed]",
      "text/plain": [
       "<Figure size 640x480 with 2 Axes>"
      ]
     },
     "metadata": {},
     "output_type": "display_data"
    }
   ],
   "source": [
    "X, y = transports_df.text, transports_df.y                                                                                  # Создаем Х и У из столбцов датафрейма\n",
    "X_train, X_test, y_train, y_test = sk.model_selection.train_test_split(X, y, test_size=0.35, random_state=random_state_all) # Разделяем датафрейм на тренировочную и тестовую выборки\n",
    "\n",
    "vectorizer = CountVectorizer(lowercase = True)                              # Создаем обхект векторизации методом мешка слов с параметром, переводящим текст в нижний регистр\n",
    "X_train_counts = vectorizer.fit_transform(X_train)                          # Преобразовываем тренировочные фичи в вектора\n",
    "\n",
    "clf = MultinomialNB()                                                       # Создаем объект Ниавного Байесовского классификатора\n",
    "clf.fit(X_train_counts, y_train)                                            # Тренируем классификатор на тренироваочных данных ( y не преобразовали, поскольку это лишь указание класса, которому принадлежит каждая строка )\n",
    "\n",
    "score = clf.score(vectorizer.transform(X_test), y_test)                     # Оцениваем точность модели на тестовых данных ( так же преобразовали фичи и не тронули метки )\n",
    "\n",
    "new_text = [' '.join('''\n",
    "🚗 На прошлой неделе количество автомобилей на дорогах города уменьшилось в среднем на 130 тыс. в сутки.\n",
    "\n",
    "По данным аналитиков ЦОДД, в майские праздники жители Москвы чаще всего ездили в районы:\n",
    "\n",
    "🔹 Митино (Митинский лесопарк)\n",
    "🔹 Ивановское (Измайловский парк)\n",
    "🔹 Бирюлёво Восточное (Бирюлевский лесопарк)\n",
    "🔹 Строгино (Большой Строгинский затон)\n",
    "🔹 Чертаново Южное (Битцевский парк)\n",
    "🔹 Ярославский (Национальный парк Лосиный остров)\n",
    "\n",
    "Магистрали, по которым больше всего выезжали из города:\n",
    "\n",
    "🔹 Ярославское шоссе    \n",
    "🔹 Варшавское шоссе      \n",
    "🔹 Волоколамское шоссе     \n",
    "🔹 Ленинский проспект   \n",
    "🔹 Дмитровское шоссе\n",
    "\n",
    "В карточке собрали всю интересную статистику 👆🏼\n",
    "\n",
    "Ожидаем, что к 15 мая в Москву вернутся автомобили, которые уехали после первых и вторых длинных выходных. Планируйте маршруты и время выезда обратно в город заранее.\n",
    "'''.split('\\n'))] # В этой переменной храним текст из одной из двух групп для проверки его принадлежности этим группам\n",
    "predicted_test = clf.predict(vectorizer.transform(X_test))                  # Предсказываем, каким классам ( группам ) принадлежать сообщения из тестовой выборки\n",
    "predicted = clf.predict(vectorizer.transform(new_text))[0]                  # Предсказываем какому классу ( какой группе ) принадлежит введенный выше текст\n",
    "\n",
    "# Преобразовываем объекты Series в датафреймы\n",
    "y_test_df = pd.DataFrame(y_test).reset_index().drop('index', axis = 1)\n",
    "y_test_predicted_df = pd.DataFrame(predicted_test.tolist()).rename(columns = {0 : 'y'})\n",
    "\n",
    "\n",
    "# Выводим оценки качества модели и предсказанный класс\n",
    "ConfusionMatrixDisplay(confusion_matrix(y_test, y_test_predicted_df)).plot()\n",
    "print(f\"Точность: {score}\\nf1-мера: {f1_score(y_test_df, y_test_predicted_df, pos_label=y_test_df.loc()[0].tolist()[0])}\")                                     \n",
    "print(f\"Предсказание введенного текста: {predicted}\")"
   ]
  }
 ],
 "metadata": {
  "kernelspec": {
   "display_name": "Python 3",
   "language": "python",
   "name": "python3"
  },
  "language_info": {
   "codemirror_mode": {
    "name": "ipython",
    "version": 3
   },
   "file_extension": ".py",
   "mimetype": "text/x-python",
   "name": "python",
   "nbconvert_exporter": "python",
   "pygments_lexer": "ipython3",
   "version": "3.10.8"
  },
  "orig_nbformat": 4,
  "vscode": {
   "interpreter": {
    "hash": "1ffdadc0d1415b19035eba2fd8fd9ccd276098cbb8bade42baf9c70e83fa5937"
   }
  }
 },
 "nbformat": 4,
 "nbformat_minor": 2
}
