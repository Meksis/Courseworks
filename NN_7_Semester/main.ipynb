{
 "cells": [
  {
   "cell_type": "code",
   "execution_count": 32,
   "metadata": {},
   "outputs": [],
   "source": [
    "import kagglehub\n",
    "\n",
    "import os\n",
    "import re\n",
    "import pandas as pd\n",
    "import seaborn as sns\n",
    "import matplotlib.pyplot as plt\n",
    "\n",
    "\n",
    "from sklearn.feature_extraction.text import ENGLISH_STOP_WORDS\n",
    "from sklearn.feature_extraction.text import TfidfVectorizer\n",
    "from sklearn.pipeline import make_pipeline\n",
    "from sklearn.metrics import classification_report, accuracy_score, f1_score, roc_auc_score, confusion_matrix\n",
    "from sklearn.model_selection import train_test_split\n",
    "from sklearn.ensemble import RandomForestClassifier\n",
    "from sklearn.linear_model import LogisticRegression\n",
    "from sklearn.svm import SVC\n",
    "from sklearn.naive_bayes import MultinomialNB"
   ]
  },
  {
   "cell_type": "code",
   "execution_count": 2,
   "metadata": {},
   "outputs": [
    {
     "name": "stdout",
     "output_type": "stream",
     "text": [
      "Warning: Looks like you're using an outdated `kagglehub` version, please consider updating (latest version: 0.3.5)\n"
     ]
    }
   ],
   "source": [
    "# Загрузка датасета\n",
    "path = kagglehub.dataset_download(\"pawankumargunjan/imdb-review\")\n",
    "path = f\"{path}\\\\aclImdb\""
   ]
  },
  {
   "cell_type": "code",
   "execution_count": 3,
   "metadata": {},
   "outputs": [],
   "source": [
    "# Предобработка текста\n",
    "def preprocess_text(text):\n",
    "    text = re.sub(r'[^\\w\\s]', '', text)\n",
    "    text = text.lower()\n",
    "    words = [word for word in text.split() if word not in ENGLISH_STOP_WORDS]\n",
    "    return ' '.join(words)\n",
    "\n",
    "# Загрузка данных\n",
    "def load_reviews(base_path):\n",
    "    reviews = []\n",
    "    labels = []\n",
    "    for label in ['pos', 'neg']:\n",
    "        folder_path = os.path.join(base_path, label)\n",
    "        for filename in os.listdir(folder_path):\n",
    "            with open(os.path.join(folder_path, filename), 'r', encoding='utf-8') as file:\n",
    "                reviews.append(preprocess_text(file.read()))\n",
    "                labels.append(1 if label == 'pos' else 0)\n",
    "    return pd.DataFrame({'review': reviews, 'sentiment': labels})"
   ]
  },
  {
   "cell_type": "code",
   "execution_count": 33,
   "metadata": {},
   "outputs": [],
   "source": [
    "def plot_confusion_matrix(y_true, y_pred, labels, title=\"Confusion Matrix\"):\n",
    "    cm = confusion_matrix(y_true, y_pred)\n",
    "    plt.figure(figsize=(8, 6))\n",
    "    sns.heatmap(cm, annot=True, fmt='d', cmap='Blues', xticklabels=labels, yticklabels=labels)\n",
    "    plt.title(title)\n",
    "    plt.xlabel('Predicted Labels')\n",
    "    plt.ylabel('True Labels')\n",
    "    plt.show()"
   ]
  },
  {
   "cell_type": "code",
   "execution_count": 4,
   "metadata": {},
   "outputs": [],
   "source": [
    "# Функция для оценки модели\n",
    "def evaluate_model(model, X_train, y_train, X_val, y_val):\n",
    "    pipeline = make_pipeline(TfidfVectorizer(), model)\n",
    "    pipeline.fit(X_train, y_train)\n",
    "    \n",
    "    # Предсказания\n",
    "    y_pred = pipeline.predict(X_val)\n",
    "    y_pred_proba = pipeline.predict_proba(X_val)[:, 1] if hasattr(pipeline[-1], \"predict_proba\") else None\n",
    "    \n",
    "    # Метрики\n",
    "    print(\"\\n\" + \"-\"*30)\n",
    "    print(f\"Model: {model.__class__.__name__}\")\n",
    "    print(\"Accuracy:\", accuracy_score(y_val, y_pred))\n",
    "    print(\"F1-Score:\", f1_score(y_val, y_pred))\n",
    "    if y_pred_proba is not None:\n",
    "        print(\"ROC AUC Score:\", roc_auc_score(y_val, y_pred_proba))\n",
    "    print(\"\\nClassification Report:\")\n",
    "    print(classification_report(y_val, y_pred, target_names=['Negative', 'Positive']))\n",
    "    print(\"Confusion Matrix:\\n\", confusion_matrix(y_val, y_pred))"
   ]
  },
  {
   "cell_type": "code",
   "execution_count": 5,
   "metadata": {},
   "outputs": [],
   "source": [
    "data_train = load_reviews(f'{path}\\\\train')\n",
    "data_test = load_reviews(f'{path}\\\\test')\n",
    "\n",
    "# Разделение тренировочной выборки на обучающую и валидационную для экспериментов\n",
    "X_train, X_val, y_train, y_val = train_test_split(\n",
    "    data_train['review'], data_train['sentiment'], test_size=0.2, random_state=42\n",
    ")\n",
    "\n",
    "# Список моделей\n",
    "models = {\n",
    "    \"Random Forest\": RandomForestClassifier(n_estimators=100, random_state=42),\n",
    "    \"Logistic Regression\": LogisticRegression(max_iter=1000, random_state=42),\n",
    "    \"SVM (Linear Kernel)\": SVC(kernel='linear', probability=True, random_state=42),\n",
    "    \"Naive Bayes\": MultinomialNB()\n",
    "}"
   ]
  },
  {
   "cell_type": "code",
   "execution_count": 6,
   "metadata": {},
   "outputs": [
    {
     "name": "stdout",
     "output_type": "stream",
     "text": [
      "\n",
      "------------------------------\n",
      "Model: RandomForestClassifier\n",
      "Accuracy: 0.846\n",
      "F1-Score: 0.8452572347266881\n",
      "ROC AUC Score: 0.9272084995059822\n",
      "\n",
      "Classification Report:\n",
      "              precision    recall  f1-score   support\n",
      "\n",
      "    Negative       0.84      0.86      0.85      2485\n",
      "    Positive       0.85      0.84      0.85      2515\n",
      "\n",
      "    accuracy                           0.85      5000\n",
      "   macro avg       0.85      0.85      0.85      5000\n",
      "weighted avg       0.85      0.85      0.85      5000\n",
      "\n",
      "Confusion Matrix:\n",
      " [[2127  358]\n",
      " [ 412 2103]]\n",
      "\n",
      "------------------------------\n",
      "Model: LogisticRegression\n",
      "Accuracy: 0.8844\n",
      "F1-Score: 0.8867998433215825\n",
      "ROC AUC Score: 0.9547502110075963\n",
      "\n",
      "Classification Report:\n",
      "              precision    recall  f1-score   support\n",
      "\n",
      "    Negative       0.90      0.87      0.88      2485\n",
      "    Positive       0.87      0.90      0.89      2515\n",
      "\n",
      "    accuracy                           0.88      5000\n",
      "   macro avg       0.88      0.88      0.88      5000\n",
      "weighted avg       0.88      0.88      0.88      5000\n",
      "\n",
      "Confusion Matrix:\n",
      " [[2158  327]\n",
      " [ 251 2264]]\n",
      "\n",
      "------------------------------\n",
      "Model: SVC\n",
      "Accuracy: 0.888\n",
      "F1-Score: 0.889589905362776\n",
      "ROC AUC Score: 0.9586517914644928\n",
      "\n",
      "Classification Report:\n",
      "              precision    recall  f1-score   support\n",
      "\n",
      "    Negative       0.89      0.88      0.89      2485\n",
      "    Positive       0.88      0.90      0.89      2515\n",
      "\n",
      "    accuracy                           0.89      5000\n",
      "   macro avg       0.89      0.89      0.89      5000\n",
      "weighted avg       0.89      0.89      0.89      5000\n",
      "\n",
      "Confusion Matrix:\n",
      " [[2184  301]\n",
      " [ 259 2256]]\n",
      "\n",
      "------------------------------\n",
      "Model: MultinomialNB\n",
      "Accuracy: 0.8624\n",
      "F1-Score: 0.8611783696529459\n",
      "ROC AUC Score: 0.9399117568232456\n",
      "\n",
      "Classification Report:\n",
      "              precision    recall  f1-score   support\n",
      "\n",
      "    Negative       0.85      0.88      0.86      2485\n",
      "    Positive       0.87      0.85      0.86      2515\n",
      "\n",
      "    accuracy                           0.86      5000\n",
      "   macro avg       0.86      0.86      0.86      5000\n",
      "weighted avg       0.86      0.86      0.86      5000\n",
      "\n",
      "Confusion Matrix:\n",
      " [[2178  307]\n",
      " [ 381 2134]]\n"
     ]
    }
   ],
   "source": [
    "# Оценка всех моделей\n",
    "for model_name, model in models.items():\n",
    "    evaluate_model(model, X_train, y_train, X_val, y_val)"
   ]
  },
  {
   "cell_type": "markdown",
   "metadata": {},
   "source": [
    "Лучшие результаты показали SVC (f-1 = 0.889), Логистическая регрессия (f-1 = 0.886), MultinomialNB (f-1 = 0.86), Случайный лес (f-1 = 0.845)"
   ]
  },
  {
   "cell_type": "markdown",
   "metadata": {},
   "source": [
    "Логистическая регрессия быстро обучилась и показала хороший результат на уровне SVC, учитывающего контекст. Бдуем использовать ее"
   ]
  },
  {
   "cell_type": "markdown",
   "metadata": {},
   "source": [
    "Кроме того, пусть регрессия в основном выявляет линейные зависимости, благодаря векторизации с помощью TF-IDF регрессия может \"разделять классы\" по сути на основе частоты встречаемости определенных слов в связке с оценкой"
   ]
  },
  {
   "cell_type": "code",
   "execution_count": 9,
   "metadata": {},
   "outputs": [
    {
     "name": "stdout",
     "output_type": "stream",
     "text": [
      "\n",
      "==============================\n",
      "Итоговая оценка модели на тестовых данных\n",
      "Точность (Accuracy): 0.87936\n",
      "F1-Оценка (F1-Score): 0.8796104103464794\n",
      "ROC AUC (Площадь под кривой): 0.9501038207999999\n",
      "\n",
      "Отчёт классификации:\n",
      "              precision    recall  f1-score   support\n",
      "\n",
      "    Negative       0.88      0.88      0.88     12500\n",
      "    Positive       0.88      0.88      0.88     12500\n",
      "\n",
      "    accuracy                           0.88     25000\n",
      "   macro avg       0.88      0.88      0.88     25000\n",
      "weighted avg       0.88      0.88      0.88     25000\n",
      "\n",
      "Матрица ошибок (Confusion Matrix):\n",
      " [[10966  1534]\n",
      " [ 1482 11018]]\n"
     ]
    }
   ],
   "source": [
    "# Итоговая модель на тестовых данных\n",
    "final_model = LogisticRegression(max_iter=1000, random_state=42)  # Логистическая регрессия\n",
    "pipeline = make_pipeline(TfidfVectorizer(), final_model)\n",
    "pipeline.fit(data_train['review'], data_train['sentiment'])\n",
    "\n",
    "# Оценка на тестовой выборке\n",
    "y_test_pred = pipeline.predict(data_test['review'])\n",
    "y_test_proba = pipeline.predict_proba(data_test['review'])[:, 1]\n",
    "\n",
    "print(\"\\n\" + \"=\"*30)\n",
    "print(\"Итоговая оценка модели на тестовых данных\")\n",
    "print(\"Точность (Accuracy):\", accuracy_score(data_test['sentiment'], y_test_pred))\n",
    "print(\"F1-Оценка (F1-Score):\", f1_score(data_test['sentiment'], y_test_pred))\n",
    "print(\"ROC AUC (Площадь под кривой):\", roc_auc_score(data_test['sentiment'], y_test_proba))\n",
    "\n",
    "print(\"\\nОтчёт классификации:\")\n",
    "print(classification_report(data_test['sentiment'], y_test_pred, target_names=['Negative', 'Positive']))\n",
    "print(\"Матрица ошибок (Confusion Matrix):\\n\", confusion_matrix(data_test['sentiment'], y_test_pred))"
   ]
  },
  {
   "cell_type": "code",
   "execution_count": 35,
   "metadata": {},
   "outputs": [
    {
     "name": "stdout",
     "output_type": "stream",
     "text": [
      "\n",
      "==============================\n",
      "Итоговая оценка модели на тестовых данных\n",
      "Точность (Accuracy): 0.87936\n",
      "F1-Оценка (F1-Score): 0.8796104103464794\n",
      "ROC AUC (Площадь под кривой): 0.9501038207999999\n",
      "\n",
      "Отчёт классификации:\n",
      "              precision    recall  f1-score   support\n",
      "\n",
      "    Negative       0.88      0.88      0.88     12500\n",
      "    Positive       0.88      0.88      0.88     12500\n",
      "\n",
      "    accuracy                           0.88     25000\n",
      "   macro avg       0.88      0.88      0.88     25000\n",
      "weighted avg       0.88      0.88      0.88     25000\n",
      "\n"
     ]
    },
    {
     "data": {
      "image/png": "[encoded data removed]",
      "text/plain": [
       "<Figure size 800x600 with 2 Axes>"
      ]
     },
     "metadata": {},
     "output_type": "display_data"
    }
   ],
   "source": [
    "# Итоговая модель на тестовых данных с визуализацией матрицы ошибок\n",
    "final_model = LogisticRegression(max_iter=1000, random_state=42)  # Логистическая регрессия\n",
    "pipeline = make_pipeline(TfidfVectorizer(), final_model)\n",
    "pipeline.fit(data_train['review'], data_train['sentiment'])\n",
    "\n",
    "# Оценка на тестовой выборке\n",
    "y_test_pred = pipeline.predict(data_test['review'])\n",
    "y_test_proba = pipeline.predict_proba(data_test['review'])[:, 1]\n",
    "\n",
    "print(\"\\n\" + \"=\"*30)\n",
    "print(\"Итоговая оценка модели на тестовых данных\")\n",
    "print(\"Точность (Accuracy):\", accuracy_score(data_test['sentiment'], y_test_pred))\n",
    "print(\"F1-Оценка (F1-Score):\", f1_score(data_test['sentiment'], y_test_pred))\n",
    "print(\"ROC AUC (Площадь под кривой):\", roc_auc_score(data_test['sentiment'], y_test_proba))\n",
    "\n",
    "print(\"\\nОтчёт классификации:\")\n",
    "print(classification_report(data_test['sentiment'], y_test_pred, target_names=['Negative', 'Positive']))\n",
    "\n",
    "# Построение матрицы ошибок\n",
    "plot_confusion_matrix(data_test['sentiment'], y_test_pred, labels=['Negative', 'Positive'], \n",
    "                      title=\"Confusion Matrix\")\n"
   ]
  },
  {
   "cell_type": "markdown",
   "metadata": {},
   "source": [
    "Точность (Accuracy) составляет 87.9%. Это означает, что модель правильно классифицировала почти 88% отзывов из тестовой выборки.\n",
    "\n",
    "F1-оценка равна 0.8796, что указывает на баланс между точностью и полнотой, подтверждая, что модель одинаково хорошо справляется с классификацией как положительных, так и отрицательных отзывов.\n",
    "\n",
    "ROC AUC (площадь под кривой) равен 0.9501, что свидетельствует о высокой способности модели различать классы.\n",
    "\n",
    "Отчет классификации показывает, что точность (precision) и полнота (recall) для обоих классов составляют 88%. Это говорит о том, что модель в равной степени хорошо справляется с определением как положительных, так и отрицательных отзывов.\n",
    "\n",
    "10966 верных предсказаний для отрицательных отзывов и 1534 ошибочных (классифицированных как положительные - False Positive). \n",
    "11018 верных предсказаний для положительных отзывов и 1482 ошибочных (классифицированных как отрицательные - False Negative)."
   ]
  },
  {
   "cell_type": "markdown",
   "metadata": {},
   "source": [
    "---"
   ]
  },
  {
   "cell_type": "markdown",
   "metadata": {},
   "source": [
    "Посмотрим, что скажет модель на отзыв \"Хороший фильм, но хуже, чем я ожидал\""
   ]
  },
  {
   "cell_type": "code",
   "execution_count": 30,
   "metadata": {},
   "outputs": [
    {
     "name": "stdout",
     "output_type": "stream",
     "text": [
      "[0.67553198 0.32446802]\n"
     ]
    },
    {
     "data": {
      "text/plain": [
       "np.int64(0)"
      ]
     },
     "execution_count": 30,
     "metadata": {},
     "output_type": "execute_result"
    }
   ],
   "source": [
    "predicted_class = pipeline.predict(['great movie but worse then i expected'])[0]\n",
    "print(pipeline.predict_proba(['great movie but worse then i expected'])[0])\n",
    "predicted_class\n"
   ]
  },
  {
   "cell_type": "markdown",
   "metadata": {},
   "source": [
    "Модель посчитала отзыв негативным, но видно, что была еще и 30% вероятность того, что отзыв все же положительный"
   ]
  },
  {
   "cell_type": "markdown",
   "metadata": {},
   "source": [
    "---"
   ]
  },
  {
   "cell_type": "markdown",
   "metadata": {},
   "source": [
    "Посмотрим, что скажет модель на отзыв \"Вообще не хороший фильм\""
   ]
  },
  {
   "cell_type": "code",
   "execution_count": 37,
   "metadata": {},
   "outputs": [
    {
     "name": "stdout",
     "output_type": "stream",
     "text": [
      "[0.07900621 0.92099379]\n"
     ]
    },
    {
     "data": {
      "text/plain": [
       "np.int64(1)"
      ]
     },
     "execution_count": 37,
     "metadata": {},
     "output_type": "execute_result"
    }
   ],
   "source": [
    "predicted_class = pipeline.predict(['quite not good movie'])[0]\n",
    "print(pipeline.predict_proba(['quite not good movie'])[0])\n",
    "predicted_class\n"
   ]
  },
  {
   "cell_type": "markdown",
   "metadata": {},
   "source": [
    "Тут модель посчитала, что отзыв положительный ну просто железобетонно - вероятность этого модель оценила в ~92%"
   ]
  },
  {
   "cell_type": "markdown",
   "metadata": {},
   "source": [
    "---"
   ]
  }
 ],
 "metadata": {
  "kernelspec": {
   "display_name": ".venv",
   "language": "python",
   "name": "python3"
  },
  "language_info": {
   "codemirror_mode": {
    "name": "ipython",
    "version": 3
   },
   "file_extension": ".py",
   "mimetype": "text/x-python",
   "name": "python",
   "nbconvert_exporter": "python",
   "pygments_lexer": "ipython3",
   "version": "3.12.5"
  }
 },
 "nbformat": 4,
 "nbformat_minor": 2
}
